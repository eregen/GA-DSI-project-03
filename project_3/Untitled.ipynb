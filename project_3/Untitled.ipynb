{
 "cells": [
  {
   "cell_type": "code",
   "execution_count": 31,
   "metadata": {},
   "outputs": [],
   "source": [
    "import pandas as pd\n",
    "import numpy as np\n",
    "import matplotlib.pyplot as plt\n",
    "import seaborn as sns\n",
    "import requests\n",
    "import time\n",
    "import html5lib\n",
    "import json\n",
    "import time\n",
    "import regex as re\n",
    "from bs4 import BeautifulSoup\n",
    "from time import sleep\n",
    "\n",
    "from sklearn.feature_extraction.text import CountVectorizer, TfidfVectorizer, HashingVectorizer\n",
    "from sklearn.pipeline import Pipeline\n",
    "from sklearn.model_selection import train_test_split, cross_val_score, GridSearchCV\n",
    "from sklearn.linear_model import LogisticRegression\n",
    "from sklearn.neighbors import KNeighborsClassifier\n",
    "from sklearn.ensemble import ExtraTreesClassifier, RandomForestClassifier, VotingClassifier, AdaBoostClassifier, GradientBoostingClassifier\n",
    "from sklearn.tree import DecisionTreeClassifier\n",
    " \n",
    "\n",
    "from nltk.stem import WordNetLemmatizer\n",
    "from nltk.tokenize import RegexpTokenizer\n",
    "from nltk.corpus import stopwords\n",
    "\n",
    "%matplotlib inline"
   ]
  },
  {
   "cell_type": "code",
   "execution_count": 3,
   "metadata": {},
   "outputs": [],
   "source": [
    "gow3 = pd.read_csv('GoWposts3')"
   ]
  },
  {
   "cell_type": "code",
   "execution_count": 4,
   "metadata": {},
   "outputs": [
    {
     "data": {
      "text/html": [
       "<div>\n",
       "<style scoped>\n",
       "    .dataframe tbody tr th:only-of-type {\n",
       "        vertical-align: middle;\n",
       "    }\n",
       "\n",
       "    .dataframe tbody tr th {\n",
       "        vertical-align: top;\n",
       "    }\n",
       "\n",
       "    .dataframe thead th {\n",
       "        text-align: right;\n",
       "    }\n",
       "</style>\n",
       "<table border=\"1\" class=\"dataframe\">\n",
       "  <thead>\n",
       "    <tr style=\"text-align: right;\">\n",
       "      <th></th>\n",
       "      <th>subreddit</th>\n",
       "      <th>name</th>\n",
       "      <th>title</th>\n",
       "      <th>post_paragraph</th>\n",
       "      <th>score</th>\n",
       "      <th>subreddit_type</th>\n",
       "      <th>link_flair_text</th>\n",
       "    </tr>\n",
       "  </thead>\n",
       "  <tbody>\n",
       "    <tr>\n",
       "      <th>0</th>\n",
       "      <td>GodofWar</td>\n",
       "      <td>t3_a3wlrs</td>\n",
       "      <td>God of War = Game of the Year Megathread</td>\n",
       "      <td>God of War won in the following categories of ...</td>\n",
       "      <td>1653</td>\n",
       "      <td>public</td>\n",
       "      <td>NaN</td>\n",
       "    </tr>\n",
       "    <tr>\n",
       "      <th>1</th>\n",
       "      <td>GodofWar</td>\n",
       "      <td>t3_cbesey</td>\n",
       "      <td>How we know for sure Fimbulwinter has begun at...</td>\n",
       "      <td>I can feel it in my scrote</td>\n",
       "      <td>174</td>\n",
       "      <td>public</td>\n",
       "      <td>Spoilers</td>\n",
       "    </tr>\n",
       "    <tr>\n",
       "      <th>2</th>\n",
       "      <td>GodofWar</td>\n",
       "      <td>t3_cba1g2</td>\n",
       "      <td>I don't get why people act like the original G...</td>\n",
       "      <td>Sure the last GoW probably has the best story ...</td>\n",
       "      <td>496</td>\n",
       "      <td>public</td>\n",
       "      <td>NaN</td>\n",
       "    </tr>\n",
       "    <tr>\n",
       "      <th>3</th>\n",
       "      <td>GodofWar</td>\n",
       "      <td>t3_cbhszc</td>\n",
       "      <td>My new Chaurlie tattoo!</td>\n",
       "      <td>https://imgur.com/mqzrlHH\\n\\nBeen working on a...</td>\n",
       "      <td>32</td>\n",
       "      <td>public</td>\n",
       "      <td>NaN</td>\n",
       "    </tr>\n",
       "    <tr>\n",
       "      <th>4</th>\n",
       "      <td>GodofWar</td>\n",
       "      <td>t3_cbl6w5</td>\n",
       "      <td>I always got the hype for this game, but I nev...</td>\n",
       "      <td>Until now, holy sweet mother of Athena....\\n\\n...</td>\n",
       "      <td>7</td>\n",
       "      <td>public</td>\n",
       "      <td>NaN</td>\n",
       "    </tr>\n",
       "  </tbody>\n",
       "</table>\n",
       "</div>"
      ],
      "text/plain": [
       "  subreddit       name                                              title  \\\n",
       "0  GodofWar  t3_a3wlrs           God of War = Game of the Year Megathread   \n",
       "1  GodofWar  t3_cbesey  How we know for sure Fimbulwinter has begun at...   \n",
       "2  GodofWar  t3_cba1g2  I don't get why people act like the original G...   \n",
       "3  GodofWar  t3_cbhszc                            My new Chaurlie tattoo!   \n",
       "4  GodofWar  t3_cbl6w5  I always got the hype for this game, but I nev...   \n",
       "\n",
       "                                      post_paragraph  score subreddit_type  \\\n",
       "0  God of War won in the following categories of ...   1653         public   \n",
       "1                         I can feel it in my scrote    174         public   \n",
       "2  Sure the last GoW probably has the best story ...    496         public   \n",
       "3  https://imgur.com/mqzrlHH\\n\\nBeen working on a...     32         public   \n",
       "4  Until now, holy sweet mother of Athena....\\n\\n...      7         public   \n",
       "\n",
       "  link_flair_text  \n",
       "0             NaN  \n",
       "1        Spoilers  \n",
       "2             NaN  \n",
       "3             NaN  \n",
       "4             NaN  "
      ]
     },
     "execution_count": 4,
     "metadata": {},
     "output_type": "execute_result"
    }
   ],
   "source": [
    "gow3.head()"
   ]
  },
  {
   "cell_type": "code",
   "execution_count": 5,
   "metadata": {},
   "outputs": [],
   "source": [
    "gowm = pd.read_csv('./data/GoWposts')"
   ]
  },
  {
   "cell_type": "code",
   "execution_count": 17,
   "metadata": {},
   "outputs": [
    {
     "data": {
      "text/plain": [
       "(1114, 7)"
      ]
     },
     "execution_count": 17,
     "metadata": {},
     "output_type": "execute_result"
    }
   ],
   "source": [
    "gow3.shape"
   ]
  },
  {
   "cell_type": "code",
   "execution_count": 7,
   "metadata": {},
   "outputs": [
    {
     "data": {
      "text/plain": [
       "(951, 7)"
      ]
     },
     "execution_count": 7,
     "metadata": {},
     "output_type": "execute_result"
    }
   ],
   "source": [
    "gowm.shape"
   ]
  },
  {
   "cell_type": "code",
   "execution_count": 18,
   "metadata": {},
   "outputs": [
    {
     "data": {
      "text/plain": [
       "(1114, 7)"
      ]
     },
     "execution_count": 18,
     "metadata": {},
     "output_type": "execute_result"
    }
   ],
   "source": [
    "gow3.drop_duplicates(keep=False).shape"
   ]
  },
  {
   "cell_type": "code",
   "execution_count": 15,
   "metadata": {},
   "outputs": [
    {
     "data": {
      "text/plain": [
       "(1114, 7)"
      ]
     },
     "execution_count": 15,
     "metadata": {},
     "output_type": "execute_result"
    }
   ],
   "source": [
    "gow3.shape"
   ]
  },
  {
   "cell_type": "code",
   "execution_count": null,
   "metadata": {},
   "outputs": [],
   "source": []
  },
  {
   "cell_type": "code",
   "execution_count": 20,
   "metadata": {},
   "outputs": [
    {
     "data": {
      "text/plain": [
       "(2065, 7)"
      ]
     },
     "execution_count": 20,
     "metadata": {},
     "output_type": "execute_result"
    }
   ],
   "source": [
    "df.shape"
   ]
  },
  {
   "cell_type": "code",
   "execution_count": 21,
   "metadata": {},
   "outputs": [
    {
     "data": {
      "text/plain": [
       "(1049, 7)"
      ]
     },
     "execution_count": 21,
     "metadata": {},
     "output_type": "execute_result"
    }
   ],
   "source": [
    "df.drop_duplicates(keep=False).shape"
   ]
  },
  {
   "cell_type": "code",
   "execution_count": 22,
   "metadata": {},
   "outputs": [],
   "source": [
    "series = df['name'].duplicated()"
   ]
  },
  {
   "cell_type": "code",
   "execution_count": 24,
   "metadata": {},
   "outputs": [],
   "source": [
    "df.drop_duplicates(keep=False, inplace = True)"
   ]
  },
  {
   "cell_type": "code",
   "execution_count": 28,
   "metadata": {},
   "outputs": [
    {
     "data": {
      "text/plain": [
       "True     966\n",
       "False     83\n",
       "Name: name, dtype: int64"
      ]
     },
     "execution_count": 28,
     "metadata": {},
     "output_type": "execute_result"
    }
   ],
   "source": [
    "df['name'].duplicated(keep = False).value_counts()"
   ]
  },
  {
   "cell_type": "code",
   "execution_count": 29,
   "metadata": {},
   "outputs": [
    {
     "data": {
      "text/plain": [
       "True     964\n",
       "False     85\n",
       "Name: post_paragraph, dtype: int64"
      ]
     },
     "execution_count": 29,
     "metadata": {},
     "output_type": "execute_result"
    }
   ],
   "source": [
    "df['post_paragraph'].duplicated(keep = False).value_counts()"
   ]
  },
  {
   "cell_type": "code",
   "execution_count": 30,
   "metadata": {},
   "outputs": [
    {
     "data": {
      "text/plain": [
       "False    945\n",
       "True       6\n",
       "Name: post_paragraph, dtype: int64"
      ]
     },
     "execution_count": 30,
     "metadata": {},
     "output_type": "execute_result"
    }
   ],
   "source": [
    "gowm['post_paragraph'].duplicated(keep = False).value_counts()"
   ]
  },
  {
   "cell_type": "code",
   "execution_count": 32,
   "metadata": {},
   "outputs": [
    {
     "name": "stderr",
     "output_type": "stream",
     "text": [
      "/Users/eliregen/anaconda3/envs/py36/lib/python3.6/site-packages/IPython/core/interactiveshell.py:3049: DtypeWarning: Columns (6) have mixed types. Specify dtype option on import or set low_memory=False.\n",
      "  interactivity=interactivity, compiler=compiler, result=result)\n"
     ]
    }
   ],
   "source": [
    "df = pd.read_csv('./data/master_df_cleaned_vectorized.csv')"
   ]
  },
  {
   "cell_type": "code",
   "execution_count": 35,
   "metadata": {},
   "outputs": [],
   "source": [
    "df.isnull().sum();"
   ]
  },
  {
   "cell_type": "code",
   "execution_count": 36,
   "metadata": {},
   "outputs": [],
   "source": [
    "df['post_paragraph'] = df.post_paragraph.fillna('')"
   ]
  },
  {
   "cell_type": "code",
   "execution_count": 42,
   "metadata": {},
   "outputs": [],
   "source": [
    "df['post_paragraph'] = df['post_paragraph'].replace(np.nan, \"\")"
   ]
  },
  {
   "cell_type": "code",
   "execution_count": 44,
   "metadata": {},
   "outputs": [],
   "source": [
    "df['post_paragraph_clean'] = df['post_paragraph_clean'].replace(np.nan, \"\")\n",
    "df['title_clean'] = df['title_clean'].replace(np.nan, \"\")"
   ]
  },
  {
   "cell_type": "code",
   "execution_count": 66,
   "metadata": {},
   "outputs": [
    {
     "data": {
      "text/html": [
       "<div>\n",
       "<style scoped>\n",
       "    .dataframe tbody tr th:only-of-type {\n",
       "        vertical-align: middle;\n",
       "    }\n",
       "\n",
       "    .dataframe tbody tr th {\n",
       "        vertical-align: top;\n",
       "    }\n",
       "\n",
       "    .dataframe thead th {\n",
       "        text-align: right;\n",
       "    }\n",
       "</style>\n",
       "<table border=\"1\" class=\"dataframe\">\n",
       "  <thead>\n",
       "    <tr style=\"text-align: right;\">\n",
       "      <th></th>\n",
       "      <th>subreddit</th>\n",
       "      <th>name</th>\n",
       "      <th>title</th>\n",
       "      <th>post_paragraph</th>\n",
       "      <th>score</th>\n",
       "      <th>subreddit_type</th>\n",
       "      <th>link_flair_text</th>\n",
       "      <th>target</th>\n",
       "      <th>title_clean</th>\n",
       "      <th>post_paragraph_clean</th>\n",
       "      <th>...</th>\n",
       "      <th>post_paragraph_clean_zoras</th>\n",
       "      <th>post_paragraph_clean_zou</th>\n",
       "      <th>post_paragraph_clean_zrrpt</th>\n",
       "      <th>post_paragraph_clean_zrrt</th>\n",
       "      <th>post_paragraph_clean_ztranslation</th>\n",
       "      <th>post_paragraph_clean_zubora</th>\n",
       "      <th>post_paragraph_clean_zues</th>\n",
       "      <th>post_paragraph_clean_zuna</th>\n",
       "      <th>post_paragraph_clean_zyaxif</th>\n",
       "      <th>post_paragraph_clean_zzbpcws</th>\n",
       "    </tr>\n",
       "  </thead>\n",
       "  <tbody>\n",
       "    <tr>\n",
       "      <th>0</th>\n",
       "      <td>GodofWar</td>\n",
       "      <td>t3_a3wlrs</td>\n",
       "      <td>God of War = Game of the Year Megathread</td>\n",
       "      <td>God of War won in the following categories of ...</td>\n",
       "      <td>1653</td>\n",
       "      <td>public</td>\n",
       "      <td>NaN</td>\n",
       "      <td>1</td>\n",
       "      <td>game the year megathread</td>\n",
       "      <td>won in the following category game award game ...</td>\n",
       "      <td>...</td>\n",
       "      <td>0</td>\n",
       "      <td>0</td>\n",
       "      <td>0</td>\n",
       "      <td>0</td>\n",
       "      <td>0</td>\n",
       "      <td>0</td>\n",
       "      <td>0</td>\n",
       "      <td>0</td>\n",
       "      <td>0</td>\n",
       "      <td>0</td>\n",
       "    </tr>\n",
       "    <tr>\n",
       "      <th>1</th>\n",
       "      <td>GodofWar</td>\n",
       "      <td>t3_car8er</td>\n",
       "      <td>Possible cameo in the next games... (Spoilers)</td>\n",
       "      <td>In this game we see Jormungandr who, in Norse ...</td>\n",
       "      <td>167</td>\n",
       "      <td>public</td>\n",
       "      <td>NaN</td>\n",
       "      <td>1</td>\n",
       "      <td>possible cameo in the next game spoiler</td>\n",
       "      <td>in this game we see jormungandr who norse myth...</td>\n",
       "      <td>...</td>\n",
       "      <td>0</td>\n",
       "      <td>0</td>\n",
       "      <td>0</td>\n",
       "      <td>0</td>\n",
       "      <td>0</td>\n",
       "      <td>0</td>\n",
       "      <td>0</td>\n",
       "      <td>0</td>\n",
       "      <td>0</td>\n",
       "      <td>0</td>\n",
       "    </tr>\n",
       "    <tr>\n",
       "      <th>2</th>\n",
       "      <td>GodofWar</td>\n",
       "      <td>t3_cakipc</td>\n",
       "      <td>Valkyries</td>\n",
       "      <td>I finally beat my first Valkyrie, I ascended t...</td>\n",
       "      <td>142</td>\n",
       "      <td>public</td>\n",
       "      <td>NaN</td>\n",
       "      <td>1</td>\n",
       "      <td>valkyrie</td>\n",
       "      <td>i finally beat my first valkyrie ascended the ...</td>\n",
       "      <td>...</td>\n",
       "      <td>0</td>\n",
       "      <td>0</td>\n",
       "      <td>0</td>\n",
       "      <td>0</td>\n",
       "      <td>0</td>\n",
       "      <td>0</td>\n",
       "      <td>0</td>\n",
       "      <td>0</td>\n",
       "      <td>0</td>\n",
       "      <td>0</td>\n",
       "    </tr>\n",
       "    <tr>\n",
       "      <th>3</th>\n",
       "      <td>GodofWar</td>\n",
       "      <td>t3_canoeb</td>\n",
       "      <td>Best boss from each game</td>\n",
       "      <td>What do you think is the best boss from each g...</td>\n",
       "      <td>31</td>\n",
       "      <td>public</td>\n",
       "      <td>Spoilers</td>\n",
       "      <td>1</td>\n",
       "      <td>best bos from each game</td>\n",
       "      <td>what do you think is the best bos from each ga...</td>\n",
       "      <td>...</td>\n",
       "      <td>0</td>\n",
       "      <td>0</td>\n",
       "      <td>0</td>\n",
       "      <td>0</td>\n",
       "      <td>0</td>\n",
       "      <td>0</td>\n",
       "      <td>0</td>\n",
       "      <td>0</td>\n",
       "      <td>0</td>\n",
       "      <td>0</td>\n",
       "    </tr>\n",
       "    <tr>\n",
       "      <th>4</th>\n",
       "      <td>GodofWar</td>\n",
       "      <td>t3_cafsjf</td>\n",
       "      <td>WOMEN OF KRATOS</td>\n",
       "      <td>How many women in here that play GOW? Been pla...</td>\n",
       "      <td>277</td>\n",
       "      <td>public</td>\n",
       "      <td>NaN</td>\n",
       "      <td>1</td>\n",
       "      <td>woman kratos</td>\n",
       "      <td>how many woman in here that play gow been play...</td>\n",
       "      <td>...</td>\n",
       "      <td>0</td>\n",
       "      <td>0</td>\n",
       "      <td>0</td>\n",
       "      <td>0</td>\n",
       "      <td>0</td>\n",
       "      <td>0</td>\n",
       "      <td>0</td>\n",
       "      <td>0</td>\n",
       "      <td>0</td>\n",
       "      <td>0</td>\n",
       "    </tr>\n",
       "  </tbody>\n",
       "</table>\n",
       "<p>5 rows × 15482 columns</p>\n",
       "</div>"
      ],
      "text/plain": [
       "  subreddit       name                                           title  \\\n",
       "0  GodofWar  t3_a3wlrs        God of War = Game of the Year Megathread   \n",
       "1  GodofWar  t3_car8er  Possible cameo in the next games... (Spoilers)   \n",
       "2  GodofWar  t3_cakipc                                       Valkyries   \n",
       "3  GodofWar  t3_canoeb                        Best boss from each game   \n",
       "4  GodofWar  t3_cafsjf                                 WOMEN OF KRATOS   \n",
       "\n",
       "                                      post_paragraph  score subreddit_type  \\\n",
       "0  God of War won in the following categories of ...   1653         public   \n",
       "1  In this game we see Jormungandr who, in Norse ...    167         public   \n",
       "2  I finally beat my first Valkyrie, I ascended t...    142         public   \n",
       "3  What do you think is the best boss from each g...     31         public   \n",
       "4  How many women in here that play GOW? Been pla...    277         public   \n",
       "\n",
       "  link_flair_text  target                              title_clean  \\\n",
       "0             NaN       1                 game the year megathread   \n",
       "1             NaN       1  possible cameo in the next game spoiler   \n",
       "2             NaN       1                                 valkyrie   \n",
       "3        Spoilers       1                  best bos from each game   \n",
       "4             NaN       1                             woman kratos   \n",
       "\n",
       "                                post_paragraph_clean  ...  \\\n",
       "0  won in the following category game award game ...  ...   \n",
       "1  in this game we see jormungandr who norse myth...  ...   \n",
       "2  i finally beat my first valkyrie ascended the ...  ...   \n",
       "3  what do you think is the best bos from each ga...  ...   \n",
       "4  how many woman in here that play gow been play...  ...   \n",
       "\n",
       "   post_paragraph_clean_zoras  post_paragraph_clean_zou  \\\n",
       "0                           0                         0   \n",
       "1                           0                         0   \n",
       "2                           0                         0   \n",
       "3                           0                         0   \n",
       "4                           0                         0   \n",
       "\n",
       "   post_paragraph_clean_zrrpt  post_paragraph_clean_zrrt  \\\n",
       "0                           0                          0   \n",
       "1                           0                          0   \n",
       "2                           0                          0   \n",
       "3                           0                          0   \n",
       "4                           0                          0   \n",
       "\n",
       "   post_paragraph_clean_ztranslation  post_paragraph_clean_zubora  \\\n",
       "0                                  0                            0   \n",
       "1                                  0                            0   \n",
       "2                                  0                            0   \n",
       "3                                  0                            0   \n",
       "4                                  0                            0   \n",
       "\n",
       "   post_paragraph_clean_zues  post_paragraph_clean_zuna  \\\n",
       "0                          0                          0   \n",
       "1                          0                          0   \n",
       "2                          0                          0   \n",
       "3                          0                          0   \n",
       "4                          0                          0   \n",
       "\n",
       "   post_paragraph_clean_zyaxif  post_paragraph_clean_zzbpcws  \n",
       "0                            0                             0  \n",
       "1                            0                             0  \n",
       "2                            0                             0  \n",
       "3                            0                             0  \n",
       "4                            0                             0  \n",
       "\n",
       "[5 rows x 15482 columns]"
      ]
     },
     "execution_count": 66,
     "metadata": {},
     "output_type": "execute_result"
    }
   ],
   "source": [
    "df.head()"
   ]
  },
  {
   "cell_type": "code",
   "execution_count": 47,
   "metadata": {},
   "outputs": [
    {
     "data": {
      "text/plain": [
       "15482"
      ]
     },
     "execution_count": 47,
     "metadata": {},
     "output_type": "execute_result"
    }
   ],
   "source": [
    "len(df.columns)"
   ]
  },
  {
   "cell_type": "code",
   "execution_count": 90,
   "metadata": {},
   "outputs": [],
   "source": [
    "features = list(df.columns)"
   ]
  },
  {
   "cell_type": "code",
   "execution_count": null,
   "metadata": {},
   "outputs": [],
   "source": []
  },
  {
   "cell_type": "code",
   "execution_count": 91,
   "metadata": {},
   "outputs": [],
   "source": [
    "del_list = ['subreddit', 'target', 'title', 'title_clean', 'post_paragraph', 'post_paragraph_clean', \n",
    "            'name', 'score', 'subreddit_type', 'link_flair_text']"
   ]
  },
  {
   "cell_type": "code",
   "execution_count": 92,
   "metadata": {},
   "outputs": [],
   "source": [
    "features = [i for i in features if i not in del_list]"
   ]
  },
  {
   "cell_type": "code",
   "execution_count": 93,
   "metadata": {},
   "outputs": [],
   "source": [
    "X = df[features]\n",
    "y = df['target']"
   ]
  },
  {
   "cell_type": "code",
   "execution_count": 94,
   "metadata": {},
   "outputs": [],
   "source": [
    "X_trim = X.drop(columns = ['title_kotm', 'post_paragraph_clean_liner',\n",
    "    'post_paragraph_clean_kratos', 'title_link', 'title_botw', 'post_paragraph_clean_botw', 'title_kondo'])\n",
    "\n"
   ]
  },
  {
   "cell_type": "code",
   "execution_count": 95,
   "metadata": {},
   "outputs": [],
   "source": [
    "X_train, X_test, y_train, y_test = train_test_split(X_trim, y, random_state=42, stratify=y)"
   ]
  },
  {
   "cell_type": "code",
   "execution_count": 96,
   "metadata": {},
   "outputs": [],
   "source": [
    "logreg = LogisticRegression()"
   ]
  },
  {
   "cell_type": "code",
   "execution_count": 97,
   "metadata": {},
   "outputs": [
    {
     "name": "stderr",
     "output_type": "stream",
     "text": [
      "/Users/eliregen/anaconda3/envs/py36/lib/python3.6/site-packages/sklearn/linear_model/logistic.py:432: FutureWarning: Default solver will be changed to 'lbfgs' in 0.22. Specify a solver to silence this warning.\n",
      "  FutureWarning)\n"
     ]
    },
    {
     "data": {
      "text/plain": [
       "LogisticRegression(C=1.0, class_weight=None, dual=False, fit_intercept=True,\n",
       "                   intercept_scaling=1, l1_ratio=None, max_iter=100,\n",
       "                   multi_class='warn', n_jobs=None, penalty='l2',\n",
       "                   random_state=None, solver='warn', tol=0.0001, verbose=0,\n",
       "                   warm_start=False)"
      ]
     },
     "execution_count": 97,
     "metadata": {},
     "output_type": "execute_result"
    }
   ],
   "source": [
    "logreg.fit(X_train, y_train)"
   ]
  },
  {
   "cell_type": "code",
   "execution_count": 98,
   "metadata": {},
   "outputs": [
    {
     "name": "stderr",
     "output_type": "stream",
     "text": [
      "/Users/eliregen/anaconda3/envs/py36/lib/python3.6/site-packages/sklearn/linear_model/logistic.py:432: FutureWarning: Default solver will be changed to 'lbfgs' in 0.22. Specify a solver to silence this warning.\n",
      "  FutureWarning)\n",
      "/Users/eliregen/anaconda3/envs/py36/lib/python3.6/site-packages/sklearn/linear_model/logistic.py:432: FutureWarning: Default solver will be changed to 'lbfgs' in 0.22. Specify a solver to silence this warning.\n",
      "  FutureWarning)\n",
      "/Users/eliregen/anaconda3/envs/py36/lib/python3.6/site-packages/sklearn/linear_model/logistic.py:432: FutureWarning: Default solver will be changed to 'lbfgs' in 0.22. Specify a solver to silence this warning.\n",
      "  FutureWarning)\n",
      "/Users/eliregen/anaconda3/envs/py36/lib/python3.6/site-packages/sklearn/linear_model/logistic.py:432: FutureWarning: Default solver will be changed to 'lbfgs' in 0.22. Specify a solver to silence this warning.\n",
      "  FutureWarning)\n",
      "/Users/eliregen/anaconda3/envs/py36/lib/python3.6/site-packages/sklearn/linear_model/logistic.py:432: FutureWarning: Default solver will be changed to 'lbfgs' in 0.22. Specify a solver to silence this warning.\n",
      "  FutureWarning)\n"
     ]
    },
    {
     "data": {
      "text/plain": [
       "array([0.91269841, 0.90873016, 0.92063492, 0.90039841, 0.94      ])"
      ]
     },
     "execution_count": 98,
     "metadata": {},
     "output_type": "execute_result"
    }
   ],
   "source": [
    "cross_val_score(logreg, X_train, y_train, cv=5)"
   ]
  },
  {
   "cell_type": "code",
   "execution_count": 99,
   "metadata": {},
   "outputs": [
    {
     "data": {
      "text/plain": [
       "1.0"
      ]
     },
     "execution_count": 99,
     "metadata": {},
     "output_type": "execute_result"
    }
   ],
   "source": [
    "logreg.score(X_train, y_train)"
   ]
  },
  {
   "cell_type": "code",
   "execution_count": 100,
   "metadata": {},
   "outputs": [
    {
     "data": {
      "text/plain": [
       "0.918854415274463"
      ]
     },
     "execution_count": 100,
     "metadata": {},
     "output_type": "execute_result"
    }
   ],
   "source": [
    "logreg.score(X_test, y_test)"
   ]
  },
  {
   "cell_type": "code",
   "execution_count": 101,
   "metadata": {},
   "outputs": [
    {
     "name": "stdout",
     "output_type": "stream",
     "text": [
      "[[3.71580197e-02 3.03176487e-01 1.31362149e-01 ... 4.37976381e-06\n",
      "  1.61909285e-03 1.53985916e-05]]\n"
     ]
    }
   ],
   "source": [
    "weights = logreg.coef_\n",
    "abs_weights = np.abs(weights)\n",
    "\n",
    "print(abs_weights)"
   ]
  },
  {
   "cell_type": "code",
   "execution_count": 102,
   "metadata": {},
   "outputs": [],
   "source": [
    "coefficients = pd.concat([pd.DataFrame(X.columns),pd.DataFrame(np.transpose(logreg.coef_))], axis = 1)"
   ]
  },
  {
   "cell_type": "code",
   "execution_count": 103,
   "metadata": {},
   "outputs": [],
   "source": [
    "coefficients.columns = ['word', 'coefficient']"
   ]
  },
  {
   "cell_type": "code",
   "execution_count": 104,
   "metadata": {},
   "outputs": [],
   "source": [
    "coefficients['coefficient'] = coefficients['coefficient'].abs()\n"
   ]
  },
  {
   "cell_type": "code",
   "execution_count": 105,
   "metadata": {},
   "outputs": [
    {
     "data": {
      "text/html": [
       "<div>\n",
       "<style scoped>\n",
       "    .dataframe tbody tr th:only-of-type {\n",
       "        vertical-align: middle;\n",
       "    }\n",
       "\n",
       "    .dataframe tbody tr th {\n",
       "        vertical-align: top;\n",
       "    }\n",
       "\n",
       "    .dataframe thead th {\n",
       "        text-align: right;\n",
       "    }\n",
       "</style>\n",
       "<table border=\"1\" class=\"dataframe\">\n",
       "  <thead>\n",
       "    <tr style=\"text-align: right;\">\n",
       "      <th></th>\n",
       "      <th>word</th>\n",
       "      <th>coefficient</th>\n",
       "    </tr>\n",
       "  </thead>\n",
       "  <tbody>\n",
       "    <tr>\n",
       "      <th>1248</th>\n",
       "      <td>title_kokiri</td>\n",
       "      <td>1.621107</td>\n",
       "    </tr>\n",
       "    <tr>\n",
       "      <th>9095</th>\n",
       "      <td>post_paragraph_clean_linear</td>\n",
       "      <td>1.453421</td>\n",
       "    </tr>\n",
       "    <tr>\n",
       "      <th>7419</th>\n",
       "      <td>post_paragraph_clean_goverment</td>\n",
       "      <td>1.309668</td>\n",
       "    </tr>\n",
       "    <tr>\n",
       "      <th>3363</th>\n",
       "      <td>post_paragraph_clean_atop</td>\n",
       "      <td>1.196882</td>\n",
       "    </tr>\n",
       "    <tr>\n",
       "      <th>8038</th>\n",
       "      <td>post_paragraph_clean_hyper</td>\n",
       "      <td>1.192907</td>\n",
       "    </tr>\n",
       "    <tr>\n",
       "      <th>7183</th>\n",
       "      <td>post_paragraph_clean_gank</td>\n",
       "      <td>1.159907</td>\n",
       "    </tr>\n",
       "    <tr>\n",
       "      <th>10337</th>\n",
       "      <td>post_paragraph_clean_ooa</td>\n",
       "      <td>1.150857</td>\n",
       "    </tr>\n",
       "    <tr>\n",
       "      <th>954</th>\n",
       "      <td>title_government</td>\n",
       "      <td>1.052784</td>\n",
       "    </tr>\n",
       "    <tr>\n",
       "      <th>10067</th>\n",
       "      <td>post_paragraph_clean_nikaido</td>\n",
       "      <td>0.954643</td>\n",
       "    </tr>\n",
       "    <tr>\n",
       "      <th>1102</th>\n",
       "      <td>title_hypothetical</td>\n",
       "      <td>0.946588</td>\n",
       "    </tr>\n",
       "    <tr>\n",
       "      <th>7181</th>\n",
       "      <td>post_paragraph_clean_ganesha</td>\n",
       "      <td>0.894591</td>\n",
       "    </tr>\n",
       "    <tr>\n",
       "      <th>1133</th>\n",
       "      <td>title_improvement</td>\n",
       "      <td>0.888977</td>\n",
       "    </tr>\n",
       "    <tr>\n",
       "      <th>13632</th>\n",
       "      <td>post_paragraph_clean_swiss</td>\n",
       "      <td>0.823456</td>\n",
       "    </tr>\n",
       "    <tr>\n",
       "      <th>1599</th>\n",
       "      <td>title_one</td>\n",
       "      <td>0.757741</td>\n",
       "    </tr>\n",
       "    <tr>\n",
       "      <th>13943</th>\n",
       "      <td>post_paragraph_clean_thinned</td>\n",
       "      <td>0.754571</td>\n",
       "    </tr>\n",
       "    <tr>\n",
       "      <th>9215</th>\n",
       "      <td>post_paragraph_clean_los</td>\n",
       "      <td>0.742622</td>\n",
       "    </tr>\n",
       "    <tr>\n",
       "      <th>14739</th>\n",
       "      <td>post_paragraph_clean_valkerie</td>\n",
       "      <td>0.727943</td>\n",
       "    </tr>\n",
       "    <tr>\n",
       "      <th>763</th>\n",
       "      <td>title_family</td>\n",
       "      <td>0.701694</td>\n",
       "    </tr>\n",
       "    <tr>\n",
       "      <th>15020</th>\n",
       "      <td>post_paragraph_clean_wavelength</td>\n",
       "      <td>0.688294</td>\n",
       "    </tr>\n",
       "    <tr>\n",
       "      <th>15161</th>\n",
       "      <td>post_paragraph_clean_wilder</td>\n",
       "      <td>0.686888</td>\n",
       "    </tr>\n",
       "    <tr>\n",
       "      <th>14350</th>\n",
       "      <td>post_paragraph_clean_tweet</td>\n",
       "      <td>0.685558</td>\n",
       "    </tr>\n",
       "    <tr>\n",
       "      <th>11257</th>\n",
       "      <td>post_paragraph_clean_providing</td>\n",
       "      <td>0.675748</td>\n",
       "    </tr>\n",
       "    <tr>\n",
       "      <th>2571</th>\n",
       "      <td>title_worse</td>\n",
       "      <td>0.673874</td>\n",
       "    </tr>\n",
       "    <tr>\n",
       "      <th>14146</th>\n",
       "      <td>post_paragraph_clean_town</td>\n",
       "      <td>0.663026</td>\n",
       "    </tr>\n",
       "    <tr>\n",
       "      <th>15152</th>\n",
       "      <td>post_paragraph_clean_wii</td>\n",
       "      <td>0.655345</td>\n",
       "    </tr>\n",
       "    <tr>\n",
       "      <th>897</th>\n",
       "      <td>title_ganoncorpse</td>\n",
       "      <td>0.643281</td>\n",
       "    </tr>\n",
       "    <tr>\n",
       "      <th>10040</th>\n",
       "      <td>post_paragraph_clean_newer</td>\n",
       "      <td>0.641547</td>\n",
       "    </tr>\n",
       "    <tr>\n",
       "      <th>1607</th>\n",
       "      <td>title_opening</td>\n",
       "      <td>0.627473</td>\n",
       "    </tr>\n",
       "    <tr>\n",
       "      <th>15166</th>\n",
       "      <td>post_paragraph_clean_wildwoods</td>\n",
       "      <td>0.624979</td>\n",
       "    </tr>\n",
       "    <tr>\n",
       "      <th>3555</th>\n",
       "      <td>post_paragraph_clean_bash</td>\n",
       "      <td>0.622056</td>\n",
       "    </tr>\n",
       "    <tr>\n",
       "      <th>...</th>\n",
       "      <td>...</td>\n",
       "      <td>...</td>\n",
       "    </tr>\n",
       "    <tr>\n",
       "      <th>7734</th>\n",
       "      <td>post_paragraph_clean_hear</td>\n",
       "      <td>0.000000</td>\n",
       "    </tr>\n",
       "    <tr>\n",
       "      <th>9689</th>\n",
       "      <td>post_paragraph_clean_misconception</td>\n",
       "      <td>0.000000</td>\n",
       "    </tr>\n",
       "    <tr>\n",
       "      <th>11507</th>\n",
       "      <td>post_paragraph_clean_readable</td>\n",
       "      <td>0.000000</td>\n",
       "    </tr>\n",
       "    <tr>\n",
       "      <th>3246</th>\n",
       "      <td>post_paragraph_clean_around</td>\n",
       "      <td>0.000000</td>\n",
       "    </tr>\n",
       "    <tr>\n",
       "      <th>9694</th>\n",
       "      <td>post_paragraph_clean_misguided</td>\n",
       "      <td>0.000000</td>\n",
       "    </tr>\n",
       "    <tr>\n",
       "      <th>3237</th>\n",
       "      <td>post_paragraph_clean_armorset</td>\n",
       "      <td>0.000000</td>\n",
       "    </tr>\n",
       "    <tr>\n",
       "      <th>1413</th>\n",
       "      <td>title_mention</td>\n",
       "      <td>0.000000</td>\n",
       "    </tr>\n",
       "    <tr>\n",
       "      <th>11516</th>\n",
       "      <td>post_paragraph_clean_realise</td>\n",
       "      <td>0.000000</td>\n",
       "    </tr>\n",
       "    <tr>\n",
       "      <th>5998</th>\n",
       "      <td>post_paragraph_clean_easy</td>\n",
       "      <td>0.000000</td>\n",
       "    </tr>\n",
       "    <tr>\n",
       "      <th>13924</th>\n",
       "      <td>post_paragraph_clean_these</td>\n",
       "      <td>0.000000</td>\n",
       "    </tr>\n",
       "    <tr>\n",
       "      <th>9684</th>\n",
       "      <td>post_paragraph_clean_mirror</td>\n",
       "      <td>0.000000</td>\n",
       "    </tr>\n",
       "    <tr>\n",
       "      <th>7726</th>\n",
       "      <td>post_paragraph_clean_healing</td>\n",
       "      <td>0.000000</td>\n",
       "    </tr>\n",
       "    <tr>\n",
       "      <th>7725</th>\n",
       "      <td>post_paragraph_clean_healed</td>\n",
       "      <td>0.000000</td>\n",
       "    </tr>\n",
       "    <tr>\n",
       "      <th>12823</th>\n",
       "      <td>post_paragraph_clean_sjybumngu</td>\n",
       "      <td>0.000000</td>\n",
       "    </tr>\n",
       "    <tr>\n",
       "      <th>13919</th>\n",
       "      <td>post_paragraph_clean_therefor</td>\n",
       "      <td>0.000000</td>\n",
       "    </tr>\n",
       "    <tr>\n",
       "      <th>7724</th>\n",
       "      <td>post_paragraph_clean_heal</td>\n",
       "      <td>0.000000</td>\n",
       "    </tr>\n",
       "    <tr>\n",
       "      <th>6003</th>\n",
       "      <td>post_paragraph_clean_eats</td>\n",
       "      <td>0.000000</td>\n",
       "    </tr>\n",
       "    <tr>\n",
       "      <th>989</th>\n",
       "      <td>title_hades</td>\n",
       "      <td>0.000000</td>\n",
       "    </tr>\n",
       "    <tr>\n",
       "      <th>2756</th>\n",
       "      <td>post_paragraph_clean_additional</td>\n",
       "      <td>0.000000</td>\n",
       "    </tr>\n",
       "    <tr>\n",
       "      <th>7717</th>\n",
       "      <td>post_paragraph_clean_header</td>\n",
       "      <td>0.000000</td>\n",
       "    </tr>\n",
       "    <tr>\n",
       "      <th>11523</th>\n",
       "      <td>post_paragraph_clean_realization</td>\n",
       "      <td>0.000000</td>\n",
       "    </tr>\n",
       "    <tr>\n",
       "      <th>9669</th>\n",
       "      <td>post_paragraph_clean_minion</td>\n",
       "      <td>0.000000</td>\n",
       "    </tr>\n",
       "    <tr>\n",
       "      <th>2527</th>\n",
       "      <td>title_when</td>\n",
       "      <td>0.000000</td>\n",
       "    </tr>\n",
       "    <tr>\n",
       "      <th>15465</th>\n",
       "      <td>post_paragraph_clean_zrrt</td>\n",
       "      <td>NaN</td>\n",
       "    </tr>\n",
       "    <tr>\n",
       "      <th>15466</th>\n",
       "      <td>post_paragraph_clean_ztranslation</td>\n",
       "      <td>NaN</td>\n",
       "    </tr>\n",
       "    <tr>\n",
       "      <th>15467</th>\n",
       "      <td>post_paragraph_clean_zubora</td>\n",
       "      <td>NaN</td>\n",
       "    </tr>\n",
       "    <tr>\n",
       "      <th>15468</th>\n",
       "      <td>post_paragraph_clean_zues</td>\n",
       "      <td>NaN</td>\n",
       "    </tr>\n",
       "    <tr>\n",
       "      <th>15469</th>\n",
       "      <td>post_paragraph_clean_zuna</td>\n",
       "      <td>NaN</td>\n",
       "    </tr>\n",
       "    <tr>\n",
       "      <th>15470</th>\n",
       "      <td>post_paragraph_clean_zyaxif</td>\n",
       "      <td>NaN</td>\n",
       "    </tr>\n",
       "    <tr>\n",
       "      <th>15471</th>\n",
       "      <td>post_paragraph_clean_zzbpcws</td>\n",
       "      <td>NaN</td>\n",
       "    </tr>\n",
       "  </tbody>\n",
       "</table>\n",
       "<p>15472 rows × 2 columns</p>\n",
       "</div>"
      ],
      "text/plain": [
       "                                     word  coefficient\n",
       "1248                         title_kokiri     1.621107\n",
       "9095          post_paragraph_clean_linear     1.453421\n",
       "7419       post_paragraph_clean_goverment     1.309668\n",
       "3363            post_paragraph_clean_atop     1.196882\n",
       "8038           post_paragraph_clean_hyper     1.192907\n",
       "7183            post_paragraph_clean_gank     1.159907\n",
       "10337            post_paragraph_clean_ooa     1.150857\n",
       "954                      title_government     1.052784\n",
       "10067        post_paragraph_clean_nikaido     0.954643\n",
       "1102                   title_hypothetical     0.946588\n",
       "7181         post_paragraph_clean_ganesha     0.894591\n",
       "1133                    title_improvement     0.888977\n",
       "13632          post_paragraph_clean_swiss     0.823456\n",
       "1599                            title_one     0.757741\n",
       "13943        post_paragraph_clean_thinned     0.754571\n",
       "9215             post_paragraph_clean_los     0.742622\n",
       "14739       post_paragraph_clean_valkerie     0.727943\n",
       "763                          title_family     0.701694\n",
       "15020     post_paragraph_clean_wavelength     0.688294\n",
       "15161         post_paragraph_clean_wilder     0.686888\n",
       "14350          post_paragraph_clean_tweet     0.685558\n",
       "11257      post_paragraph_clean_providing     0.675748\n",
       "2571                          title_worse     0.673874\n",
       "14146           post_paragraph_clean_town     0.663026\n",
       "15152            post_paragraph_clean_wii     0.655345\n",
       "897                     title_ganoncorpse     0.643281\n",
       "10040          post_paragraph_clean_newer     0.641547\n",
       "1607                        title_opening     0.627473\n",
       "15166      post_paragraph_clean_wildwoods     0.624979\n",
       "3555            post_paragraph_clean_bash     0.622056\n",
       "...                                   ...          ...\n",
       "7734            post_paragraph_clean_hear     0.000000\n",
       "9689   post_paragraph_clean_misconception     0.000000\n",
       "11507       post_paragraph_clean_readable     0.000000\n",
       "3246          post_paragraph_clean_around     0.000000\n",
       "9694       post_paragraph_clean_misguided     0.000000\n",
       "3237        post_paragraph_clean_armorset     0.000000\n",
       "1413                        title_mention     0.000000\n",
       "11516        post_paragraph_clean_realise     0.000000\n",
       "5998            post_paragraph_clean_easy     0.000000\n",
       "13924          post_paragraph_clean_these     0.000000\n",
       "9684          post_paragraph_clean_mirror     0.000000\n",
       "7726         post_paragraph_clean_healing     0.000000\n",
       "7725          post_paragraph_clean_healed     0.000000\n",
       "12823      post_paragraph_clean_sjybumngu     0.000000\n",
       "13919       post_paragraph_clean_therefor     0.000000\n",
       "7724            post_paragraph_clean_heal     0.000000\n",
       "6003            post_paragraph_clean_eats     0.000000\n",
       "989                           title_hades     0.000000\n",
       "2756      post_paragraph_clean_additional     0.000000\n",
       "7717          post_paragraph_clean_header     0.000000\n",
       "11523    post_paragraph_clean_realization     0.000000\n",
       "9669          post_paragraph_clean_minion     0.000000\n",
       "2527                           title_when     0.000000\n",
       "15465           post_paragraph_clean_zrrt          NaN\n",
       "15466   post_paragraph_clean_ztranslation          NaN\n",
       "15467         post_paragraph_clean_zubora          NaN\n",
       "15468           post_paragraph_clean_zues          NaN\n",
       "15469           post_paragraph_clean_zuna          NaN\n",
       "15470         post_paragraph_clean_zyaxif          NaN\n",
       "15471        post_paragraph_clean_zzbpcws          NaN\n",
       "\n",
       "[15472 rows x 2 columns]"
      ]
     },
     "execution_count": 105,
     "metadata": {},
     "output_type": "execute_result"
    }
   ],
   "source": [
    "coefficients.sort_values(by = 'coefficient', ascending = False)\n"
   ]
  },
  {
   "cell_type": "code",
   "execution_count": null,
   "metadata": {},
   "outputs": [],
   "source": []
  }
 ],
 "metadata": {
  "kernelspec": {
   "display_name": "py36",
   "language": "python",
   "name": "py36"
  },
  "language_info": {
   "codemirror_mode": {
    "name": "ipython",
    "version": 3
   },
   "file_extension": ".py",
   "mimetype": "text/x-python",
   "name": "python",
   "nbconvert_exporter": "python",
   "pygments_lexer": "ipython3",
   "version": "3.6.8"
  }
 },
 "nbformat": 4,
 "nbformat_minor": 2
}
