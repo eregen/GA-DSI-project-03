{
 "cells": [
  {
   "cell_type": "code",
   "execution_count": 912,
   "metadata": {},
   "outputs": [
    {
     "data": {
      "text/markdown": [
       "# ![](https://ga-dash.s3.amazonaws.com/production/assets/logo-9f88ae6c9c3871690e33280fcf557f33.png) Project 3: Web APIs & Classification\n",
       "\n",
       "### Executive Summary\n",
       "\n",
       "### Problem Statement\n",
       "\n",
       "Reddit hosts threads on a massive variety of topics within their own categories.  I'm proposing\n",
       "to train a classifier to distinguish between two wildly popular yet very different video game franchises:\n",
       "God of War and The Legend of Zelda.  Both have enjoyed massive success and critical acclaim,\n",
       "but the former is well known for violent enough to warrant an M-rating for every one of it's titles,\n",
       "and the latter is whimsical and child-friendly.  Both also have their own lore and words unique to their\n",
       "respective series.  I have selected two subrredits devoted to these series that consist mostly of text, \n",
       "as some subreddits consist mostly of pictures and video clips. \n",
       "\tBefore I start building models howeverI have to: first, scrape reddit for the data; second, clean\n",
       "and format the data; and third, vectorize the cleaned text columns. I will use CountVectorize for this.\n",
       "\tAfter retrieving, cleaning, and processing the data, I will remove certain columns,\n",
       "including the 'target' column, of course, from a 'features' list. The 'target' column, \n",
       "which contains a 1 or 0 (1 representing that the post came from theGod of War subreddit and 0 \n",
       "representing that the post came from the Zelda subreddit), will be used as our y.\n",
       "\tNext, we will split the dataset into two: a training set, and a testing set.  By using\n",
       "sklearn's train_test_split, we can check the results of our model when run on 'unseen' data,\n",
       "giving us a more realistic test of the model's predictive power.\n",
       "\tFinally, we will run our data through the modeling process.  We will use four different\n",
       "classification models: Logistic Regression, K Nearest Neighbors, Random Forests\n",
       "and Naive Bayes.  I will also run the first three models through a gridsearch,\n",
       "to tune hyper paramaters for each model to get a better feel for how well individual models may perform.\n",
       "\tOnce all models have fitted, I will evaluate their accuracy scorings, find the strongest\n",
       "performing model and declare it the model most worth pursuing further.\n",
       "\n",
       "\n",
       "What I found was that the best performing model was Logistic Regression.  I Gridsearched\n",
       "it and some of the parameters were: C = 1.3, penalty = L1.\n",
       "\tAs I hypothesized these two subrredits don't have much overlap.  Since they are so different,\n",
       "they were fairly easy to classify. In light of this I decided to remove certain words \n",
       "With this being the case, we decided to handicap the model, in a sense, by removing certain\n",
       "words from the features.  This includes: Zelda, Legend, Kratos, God, and War.  \n",
       "\tAfter penalizing the model I still got very good accuracy for my models.  Logistic Regression did \n",
       "best with a Traning accuracy of 1.0 and a Test accuracy of 0.93. I also got a strong performance from\n",
       "Random Forrests and Naive Bayes.  The former had 0.999 accuracy on the training set and 0.914 for the \n",
       "testing set, while the latter got 0.998 for the training set and 0.911 for the testing set.\n",
       "having a Train Set Accuracy Score of .999 and a Test Set Accuracy Score of .950. The K Nearest Neighbors \n",
       "performed poorly, with a Train set accuracy of 0.709 and a Test set accuracy of 0.637. \n",
       "\tIn the future I'd like to see how these models work on different pairs of subreddits and\n",
       "compare results.  Does the model work well on the GodofWar/Zelda subreddits,\n",
       "or does it also work well on other subreddit pairs?\n",
       "\n",
       "We recommend that reddit use my model to differentiate God of War reddit posts and Legend of Zelda posts.\n",
       "The model works fairly well, but it will still misclassify 7 out of 100 posts. There is still room for \n",
       "improvement and I'd like to see how a Logistic Regression model would perfrom on a term frequency-inverse document frequency\n",
       "vectorized dataset. "
      ],
      "text/plain": [
       "<IPython.core.display.Markdown object>"
      ]
     },
     "metadata": {},
     "output_type": "display_data"
    }
   ],
   "source": [
    "from IPython.display import display, Markdown\n",
    "\n",
    "with open('README.md', 'r') as fh:\n",
    "    content = fh.read()\n",
    "\n",
    "display(Markdown(content))"
   ]
  },
  {
   "cell_type": "code",
   "execution_count": 821,
   "metadata": {},
   "outputs": [],
   "source": [
    "import pandas as pd\n",
    "import numpy as np\n",
    "import matplotlib.pyplot as plt\n",
    "import requests\n",
    "import time\n",
    "import html5lib\n",
    "import json\n",
    "import time\n",
    "import regex as re\n",
    "from bs4 import BeautifulSoup\n",
    "from time import sleep\n",
    "\n",
    "from sklearn.feature_extraction.text import CountVectorizer, TfidfVectorizer, HashingVectorizer\n",
    "from sklearn.pipeline import Pipeline\n",
    "from sklearn.model_selection import train_test_split, cross_val_score, GridSearchCV\n",
    "from sklearn.linear_model import LogisticRegression\n",
    "from sklearn.neighbors import KNeighborsClassifier\n",
    "from sklearn.ensemble import ExtraTreesClassifier, RandomForestClassifier, VotingClassifier, AdaBoostClassifier, GradientBoostingClassifier\n",
    "from sklearn.tree import DecisionTreeClassifier\n",
    "from sklearn.metrics import roc_curve, confusion_matrix\n",
    "from sklearn.utils.multiclass import unique_labels\n",
    "\n",
    " \n",
    "\n",
    "from nltk.stem import WordNetLemmatizer\n",
    "from nltk.tokenize import RegexpTokenizer\n",
    "from nltk.corpus import stopwords\n",
    "\n",
    "%matplotlib inline"
   ]
  },
  {
   "cell_type": "code",
   "execution_count": 797,
   "metadata": {},
   "outputs": [],
   "source": [
    "#Is post about God of war or The Legend of Zelda?  "
   ]
  },
  {
   "cell_type": "code",
   "execution_count": 805,
   "metadata": {},
   "outputs": [],
   "source": [
    "gow_url = 'https://www.reddit.com/r/GodofWar/'\n",
    "z_url = 'https://www.reddit.com/r/truezelda/'\n",
    "headers = {'User-Agent': 'General Assembly Student'}\n"
   ]
  },
  {
   "cell_type": "code",
   "execution_count": 799,
   "metadata": {},
   "outputs": [],
   "source": [
    "res_z = requests.get('https://www.reddit.com/r/truezelda/.json', headers=headers)"
   ]
  },
  {
   "cell_type": "code",
   "execution_count": 800,
   "metadata": {},
   "outputs": [
    {
     "data": {
      "text/plain": [
       "200"
      ]
     },
     "execution_count": 800,
     "metadata": {},
     "output_type": "execute_result"
    }
   ],
   "source": [
    "res_z2.status_code"
   ]
  },
  {
   "cell_type": "code",
   "execution_count": 801,
   "metadata": {},
   "outputs": [],
   "source": [
    "res_z.json();"
   ]
  },
  {
   "cell_type": "code",
   "execution_count": 802,
   "metadata": {},
   "outputs": [],
   "source": [
    "headers = {'User-agent': 'General Assembly Student'}"
   ]
  },
  {
   "cell_type": "code",
   "execution_count": 9,
   "metadata": {},
   "outputs": [],
   "source": [
    "res_g = requests.get(gowurl, headers=headers)"
   ]
  },
  {
   "cell_type": "code",
   "execution_count": 10,
   "metadata": {},
   "outputs": [
    {
     "data": {
      "text/plain": [
       "200"
      ]
     },
     "execution_count": 10,
     "metadata": {},
     "output_type": "execute_result"
    }
   ],
   "source": [
    "res_g.status_code"
   ]
  },
  {
   "cell_type": "code",
   "execution_count": 14,
   "metadata": {},
   "outputs": [],
   "source": [
    "soup_g = BeautifulSoup(res_g.content, 'lxml')\n",
    "soup_b = BeautifulSoup(res_b.content, 'lxml')"
   ]
  },
  {
   "cell_type": "code",
   "execution_count": 16,
   "metadata": {},
   "outputs": [],
   "source": [
    "h1g = soup_g.find('h1')"
   ]
  },
  {
   "cell_type": "code",
   "execution_count": 17,
   "metadata": {},
   "outputs": [
    {
     "data": {
      "text/plain": [
       "bs4.element.Tag"
      ]
     },
     "execution_count": 17,
     "metadata": {},
     "output_type": "execute_result"
    }
   ],
   "source": [
    "type(h1g)"
   ]
  },
  {
   "cell_type": "code",
   "execution_count": 18,
   "metadata": {},
   "outputs": [
    {
     "data": {
      "text/plain": [
       "'GodofWar'"
      ]
     },
     "execution_count": 18,
     "metadata": {},
     "output_type": "execute_result"
    }
   ],
   "source": [
    "h1g.text"
   ]
  },
  {
   "cell_type": "markdown",
   "metadata": {},
   "source": [
    "#### Want a function that will directly scrape a subreddit given the url and output a csv.  \n",
    "##### 'reddit_to_csv' should take three arguments: \n",
    "##### 1) the subreddit being scraped\n",
    "##### 2) A filename for the .csv to be produced\n",
    "##### 3) the number of requests the user would like to make of reddit's API."
   ]
  },
  {
   "cell_type": "code",
   "execution_count": 887,
   "metadata": {},
   "outputs": [],
   "source": [
    "def reddit_to_csv(subreddit, filename, n_requests=30):\n",
    "    #Initialize out list to hold all of the subreedit posts to be gathered\n",
    "    posts = []\n",
    "    \n",
    "    #Make the 'after' key for last post None type for now\n",
    "    after = None  \n",
    "    \n",
    "    #Create User-Agent to avoid 429 res.status_code:\n",
    "    headers = {'User-Agent': 'General Assembly Student'}\n",
    "    \n",
    "    #for loop n_requests iterations where n is chosen by user:\n",
    "    for i in range(n_requests):\n",
    "       #Using the loop from Riley Dallas proj 3 info session\n",
    "        \n",
    "        if after == None:\n",
    "            params = {}\n",
    "        else:\n",
    "            params = {'after': after}\n",
    "            \n",
    "        #Assign 'url' to subreddit base url plus .json\n",
    "        url = str(subreddit) + '/.json'\n",
    "        \n",
    "        #Set my res variable equal to the results from requests.get, and the parameters set above like 'url' or 'params':\n",
    "        res = requests.get(url, params = params, headers = headers)\n",
    "        \n",
    "        #only start the loop if we have a successful connection to the site\n",
    "        if res.status_code == 200:\n",
    "            \n",
    "            the_json = res.json()\n",
    "            \n",
    "            for x in range(len(the_json['data']['children'])):\n",
    "                \n",
    "                #Create temp dict to contain results of posts to\n",
    "                temp_dict = {}\n",
    "                \n",
    "                #Pick out the JSON info we need\n",
    "                \n",
    "                temp_dict['subreddit'] = the_json['data']['children'][x]['data']['subreddit']\n",
    "                temp_dict['name'] = the_json['data']['children'][x]['data']['name']\n",
    "                temp_dict['title'] = the_json['data']['children'][x]['data']['title']\n",
    "                temp_dict['post_paragraph'] = the_json['data']['children'][x]['data']['selftext']\n",
    "                temp_dict['score'] = the_json['data']['children'][x]['data']['score']\n",
    "                temp_dict['subreddit_type'] = the_json['data']['children'][x]['data']['subreddit_type'] \n",
    "                temp_dict['link_flair_text'] = the_json['data']['children'][x]['data']['link_flair_text'] \n",
    "               \n",
    "                \n",
    "                #Add the temporary dictionary to 'posts',the list of each post's dictionary of information:\n",
    "                posts.append(temp_dict)\n",
    "                \n",
    "            after = the_json['data']['after']\n",
    "            \n",
    "            #bookmark which pages I have already been parsed\n",
    "            print(after)\n",
    "            \n",
    "        #If something went wrong when trying to connect print the status\n",
    "        else:\n",
    "            print(res.status_code)\n",
    "            break\n",
    "            \n",
    "        #one second delay as scraper ethics demand  \n",
    "        time.sleep(1)\n",
    "        \n",
    "        #let us know how many requests have been made\n",
    "        print(i)\n",
    "        \n",
    "\n",
    "    #Finally convert our dictionaries of posts to dataframe\n",
    "    posts_df = pd.DataFrame(posts)\n",
    "    \n",
    "    #Rearrange the columns\n",
    "    posts_df = posts_df[['subreddit', 'name' ,'title', 'post_paragraph', 'score', 'subreddit_type', 'link_flair_text']]\n",
    "    \n",
    "    #Drop any duplicate rows that found it's way there\n",
    "    posts_df.drop_duplicates(inplace = True)\n",
    "    \n",
    "    #At last save it all as a .csv\n",
    "    posts_df.to_csv(str(filename), index = False, sep = \",\")\n",
    "    \n",
    "    print(\"Successfully Scraped\")   "
   ]
  },
  {
   "cell_type": "code",
   "execution_count": 414,
   "metadata": {},
   "outputs": [],
   "source": [
    "#reddit_to_csv(gowurl, 'GoWposts3', n_requests=50)\n",
    "#last after = t3_bml2oy "
   ]
  },
  {
   "cell_type": "code",
   "execution_count": 31,
   "metadata": {},
   "outputs": [],
   "source": [
    "gow1 = pd.read_csv('./data/GoWposts')"
   ]
  },
  {
   "cell_type": "code",
   "execution_count": 66,
   "metadata": {},
   "outputs": [
    {
     "data": {
      "text/plain": [
       "(951, 7)"
      ]
     },
     "execution_count": 66,
     "metadata": {},
     "output_type": "execute_result"
    }
   ],
   "source": [
    "gow1.shape"
   ]
  },
  {
   "cell_type": "code",
   "execution_count": 48,
   "metadata": {},
   "outputs": [
    {
     "data": {
      "text/plain": [
       "subreddit          object\n",
       "name               object\n",
       "title              object\n",
       "post_paragraph     object\n",
       "score               int64\n",
       "subreddit_type     object\n",
       "link_flair_text    object\n",
       "dtype: object"
      ]
     },
     "execution_count": 48,
     "metadata": {},
     "output_type": "execute_result"
    }
   ],
   "source": [
    "gow1.dtypes"
   ]
  },
  {
   "cell_type": "code",
   "execution_count": 33,
   "metadata": {},
   "outputs": [],
   "source": [
    "gow2 = pd.read_csv('./GoWposts2')"
   ]
  },
  {
   "cell_type": "code",
   "execution_count": 42,
   "metadata": {},
   "outputs": [
    {
     "data": {
      "text/html": [
       "<div>\n",
       "<style scoped>\n",
       "    .dataframe tbody tr th:only-of-type {\n",
       "        vertical-align: middle;\n",
       "    }\n",
       "\n",
       "    .dataframe tbody tr th {\n",
       "        vertical-align: top;\n",
       "    }\n",
       "\n",
       "    .dataframe thead th {\n",
       "        text-align: right;\n",
       "    }\n",
       "</style>\n",
       "<table border=\"1\" class=\"dataframe\">\n",
       "  <thead>\n",
       "    <tr style=\"text-align: right;\">\n",
       "      <th></th>\n",
       "      <th>subreddit</th>\n",
       "      <th>name</th>\n",
       "      <th>title</th>\n",
       "      <th>post_paragraph</th>\n",
       "      <th>score</th>\n",
       "      <th>subreddit_type</th>\n",
       "      <th>link_flair_text</th>\n",
       "    </tr>\n",
       "  </thead>\n",
       "  <tbody>\n",
       "    <tr>\n",
       "      <th>0</th>\n",
       "      <td>GodofWar</td>\n",
       "      <td>t3_a3wlrs</td>\n",
       "      <td>God of War = Game of the Year Megathread</td>\n",
       "      <td>God of War won in the following categories of ...</td>\n",
       "      <td>1655</td>\n",
       "      <td>public</td>\n",
       "      <td>NaN</td>\n",
       "    </tr>\n",
       "    <tr>\n",
       "      <th>1</th>\n",
       "      <td>GodofWar</td>\n",
       "      <td>t3_cayaif</td>\n",
       "      <td>Muspelheim sucks</td>\n",
       "      <td>I love muspelheim but man sometimes do I hate ...</td>\n",
       "      <td>96</td>\n",
       "      <td>public</td>\n",
       "      <td>NaN</td>\n",
       "    </tr>\n",
       "    <tr>\n",
       "      <th>2</th>\n",
       "      <td>GodofWar</td>\n",
       "      <td>t3_cb0q8u</td>\n",
       "      <td>Stuck on Muspelheim challenge</td>\n",
       "      <td>Playing the give me a challenge game mode and ...</td>\n",
       "      <td>19</td>\n",
       "      <td>public</td>\n",
       "      <td>NaN</td>\n",
       "    </tr>\n",
       "    <tr>\n",
       "      <th>3</th>\n",
       "      <td>GodofWar</td>\n",
       "      <td>t3_car8er</td>\n",
       "      <td>Possible cameo in the next games... (Spoilers)</td>\n",
       "      <td>In this game we see Jormungandr who, in Norse ...</td>\n",
       "      <td>297</td>\n",
       "      <td>public</td>\n",
       "      <td>NaN</td>\n",
       "    </tr>\n",
       "    <tr>\n",
       "      <th>4</th>\n",
       "      <td>GodofWar</td>\n",
       "      <td>t3_cay6dp</td>\n",
       "      <td>I just beat the last valkyrie</td>\n",
       "      <td>After hours of having much fun playing this ga...</td>\n",
       "      <td>31</td>\n",
       "      <td>public</td>\n",
       "      <td>Spoilers</td>\n",
       "    </tr>\n",
       "  </tbody>\n",
       "</table>\n",
       "</div>"
      ],
      "text/plain": [
       "  subreddit       name                                           title  \\\n",
       "0  GodofWar  t3_a3wlrs        God of War = Game of the Year Megathread   \n",
       "1  GodofWar  t3_cayaif                                Muspelheim sucks   \n",
       "2  GodofWar  t3_cb0q8u                   Stuck on Muspelheim challenge   \n",
       "3  GodofWar  t3_car8er  Possible cameo in the next games... (Spoilers)   \n",
       "4  GodofWar  t3_cay6dp                   I just beat the last valkyrie   \n",
       "\n",
       "                                      post_paragraph  score subreddit_type  \\\n",
       "0  God of War won in the following categories of ...   1655         public   \n",
       "1  I love muspelheim but man sometimes do I hate ...     96         public   \n",
       "2  Playing the give me a challenge game mode and ...     19         public   \n",
       "3  In this game we see Jormungandr who, in Norse ...    297         public   \n",
       "4  After hours of having much fun playing this ga...     31         public   \n",
       "\n",
       "  link_flair_text  \n",
       "0             NaN  \n",
       "1             NaN  \n",
       "2             NaN  \n",
       "3             NaN  \n",
       "4        Spoilers  "
      ]
     },
     "execution_count": 42,
     "metadata": {},
     "output_type": "execute_result"
    }
   ],
   "source": [
    "gow2.head()"
   ]
  },
  {
   "cell_type": "code",
   "execution_count": 57,
   "metadata": {},
   "outputs": [],
   "source": [
    "df = pd.concat([gow1, gow2], ignore_index= True)"
   ]
  },
  {
   "cell_type": "code",
   "execution_count": 62,
   "metadata": {},
   "outputs": [],
   "source": [
    "series = df.duplicated()"
   ]
  },
  {
   "cell_type": "code",
   "execution_count": 73,
   "metadata": {},
   "outputs": [],
   "source": [
    "df.drop_duplicates(subset='post_paragraph', inplace=True)"
   ]
  },
  {
   "cell_type": "code",
   "execution_count": 74,
   "metadata": {},
   "outputs": [],
   "source": [
    "df.to_csv('GoW_master', index = False)"
   ]
  },
  {
   "cell_type": "code",
   "execution_count": 71,
   "metadata": {},
   "outputs": [
    {
     "data": {
      "text/plain": [
       "(1902, 7)"
      ]
     },
     "execution_count": 71,
     "metadata": {},
     "output_type": "execute_result"
    }
   ],
   "source": [
    "df.shape"
   ]
  },
  {
   "cell_type": "code",
   "execution_count": null,
   "metadata": {},
   "outputs": [],
   "source": [
    "gow_df.duplicated();"
   ]
  },
  {
   "cell_type": "code",
   "execution_count": null,
   "metadata": {},
   "outputs": [],
   "source": [
    "god_df.drop_duplicates(keep=False).shape"
   ]
  },
  {
   "cell_type": "code",
   "execution_count": null,
   "metadata": {},
   "outputs": [],
   "source": [
    "gow1.columns"
   ]
  },
  {
   "cell_type": "code",
   "execution_count": null,
   "metadata": {},
   "outputs": [],
   "source": [
    "#reddit_to_csv(botwurl, 'Zeldaposts2', n_requests=29)"
   ]
  },
  {
   "cell_type": "code",
   "execution_count": 418,
   "metadata": {},
   "outputs": [],
   "source": [
    "#reddit_to_csv(true_zelda_sub, 'true_zelda_reddit2', n_requests=29)"
   ]
  },
  {
   "cell_type": "code",
   "execution_count": 90,
   "metadata": {},
   "outputs": [],
   "source": [
    "z = pd.read_csv('./true_zelda_reddit')"
   ]
  },
  {
   "cell_type": "code",
   "execution_count": 91,
   "metadata": {},
   "outputs": [
    {
     "data": {
      "text/plain": [
       "(725, 7)"
      ]
     },
     "execution_count": 91,
     "metadata": {},
     "output_type": "execute_result"
    }
   ],
   "source": [
    "z.shape"
   ]
  },
  {
   "cell_type": "code",
   "execution_count": 92,
   "metadata": {},
   "outputs": [
    {
     "data": {
      "text/html": [
       "<div>\n",
       "<style scoped>\n",
       "    .dataframe tbody tr th:only-of-type {\n",
       "        vertical-align: middle;\n",
       "    }\n",
       "\n",
       "    .dataframe tbody tr th {\n",
       "        vertical-align: top;\n",
       "    }\n",
       "\n",
       "    .dataframe thead th {\n",
       "        text-align: right;\n",
       "    }\n",
       "</style>\n",
       "<table border=\"1\" class=\"dataframe\">\n",
       "  <thead>\n",
       "    <tr style=\"text-align: right;\">\n",
       "      <th></th>\n",
       "      <th>subreddit</th>\n",
       "      <th>name</th>\n",
       "      <th>title</th>\n",
       "      <th>post_paragraph</th>\n",
       "      <th>score</th>\n",
       "      <th>subreddit_type</th>\n",
       "      <th>link_flair_text</th>\n",
       "    </tr>\n",
       "  </thead>\n",
       "  <tbody>\n",
       "    <tr>\n",
       "      <th>0</th>\n",
       "      <td>truezelda</td>\n",
       "      <td>t3_cb0ltc</td>\n",
       "      <td>What are some details/easter eggs/trivia in Wi...</td>\n",
       "      <td>I asked a similar question a while back [regar...</td>\n",
       "      <td>47</td>\n",
       "      <td>public</td>\n",
       "      <td>NaN</td>\n",
       "    </tr>\n",
       "    <tr>\n",
       "      <th>1</th>\n",
       "      <td>truezelda</td>\n",
       "      <td>t3_cb1ahn</td>\n",
       "      <td>New Blood Moon? (BotW2)</td>\n",
       "      <td>What do you think will be the new blood moon m...</td>\n",
       "      <td>6</td>\n",
       "      <td>public</td>\n",
       "      <td>NaN</td>\n",
       "    </tr>\n",
       "    <tr>\n",
       "      <th>2</th>\n",
       "      <td>truezelda</td>\n",
       "      <td>t3_catrep</td>\n",
       "      <td>The New Champions Abilities</td>\n",
       "      <td>So, the Champions were chosen for their abilit...</td>\n",
       "      <td>47</td>\n",
       "      <td>public</td>\n",
       "      <td>NaN</td>\n",
       "    </tr>\n",
       "    <tr>\n",
       "      <th>3</th>\n",
       "      <td>truezelda</td>\n",
       "      <td>t3_cau51l</td>\n",
       "      <td>Every The Legend of Zelda Spirit Battle Explai...</td>\n",
       "      <td>https://www.youtube.com/watch?v=B9MAPbuNvHs</td>\n",
       "      <td>29</td>\n",
       "      <td>public</td>\n",
       "      <td>NaN</td>\n",
       "    </tr>\n",
       "    <tr>\n",
       "      <th>4</th>\n",
       "      <td>truezelda</td>\n",
       "      <td>t3_careb3</td>\n",
       "      <td>Lomei vs. Zonai</td>\n",
       "      <td>Are these two the same? Just thought I’d get a...</td>\n",
       "      <td>36</td>\n",
       "      <td>public</td>\n",
       "      <td>NaN</td>\n",
       "    </tr>\n",
       "  </tbody>\n",
       "</table>\n",
       "</div>"
      ],
      "text/plain": [
       "   subreddit       name                                              title  \\\n",
       "0  truezelda  t3_cb0ltc  What are some details/easter eggs/trivia in Wi...   \n",
       "1  truezelda  t3_cb1ahn                            New Blood Moon? (BotW2)   \n",
       "2  truezelda  t3_catrep                        The New Champions Abilities   \n",
       "3  truezelda  t3_cau51l  Every The Legend of Zelda Spirit Battle Explai...   \n",
       "4  truezelda  t3_careb3                                    Lomei vs. Zonai   \n",
       "\n",
       "                                      post_paragraph  score subreddit_type  \\\n",
       "0  I asked a similar question a while back [regar...     47         public   \n",
       "1  What do you think will be the new blood moon m...      6         public   \n",
       "2  So, the Champions were chosen for their abilit...     47         public   \n",
       "3        https://www.youtube.com/watch?v=B9MAPbuNvHs     29         public   \n",
       "4  Are these two the same? Just thought I’d get a...     36         public   \n",
       "\n",
       "   link_flair_text  \n",
       "0              NaN  \n",
       "1              NaN  \n",
       "2              NaN  \n",
       "3              NaN  \n",
       "4              NaN  "
      ]
     },
     "execution_count": 92,
     "metadata": {},
     "output_type": "execute_result"
    }
   ],
   "source": [
    "z.head()"
   ]
  },
  {
   "cell_type": "code",
   "execution_count": 98,
   "metadata": {},
   "outputs": [],
   "source": [
    "series = z['name'].duplicated()"
   ]
  },
  {
   "cell_type": "code",
   "execution_count": null,
   "metadata": {},
   "outputs": [],
   "source": [
    "zelda1['title'].duplicated()"
   ]
  },
  {
   "cell_type": "code",
   "execution_count": null,
   "metadata": {},
   "outputs": [],
   "source": [
    "s1 = pd.merge(zelda1, zelda2, how='outer')"
   ]
  },
  {
   "cell_type": "code",
   "execution_count": null,
   "metadata": {},
   "outputs": [],
   "source": [
    "s1.head()"
   ]
  },
  {
   "cell_type": "code",
   "execution_count": null,
   "metadata": {},
   "outputs": [],
   "source": [
    "s1"
   ]
  },
  {
   "cell_type": "code",
   "execution_count": null,
   "metadata": {},
   "outputs": [],
   "source": [
    "#Upon inspecting both subreddits I noticed a big difference between the two.  GoW posts was more discussion with text \n",
    "#but zelda had more pictures as posts with caption included.  \n",
    "\n",
    "#if link_flair_text = 'NaN', 'Discussion', 'Question', 'News', 'Highlight', 'Spoilers'"
   ]
  },
  {
   "cell_type": "code",
   "execution_count": null,
   "metadata": {},
   "outputs": [],
   "source": [
    "test2.link_flair_text.value_counts()"
   ]
  },
  {
   "cell_type": "markdown",
   "metadata": {},
   "source": [
    "#### Combine datasets"
   ]
  },
  {
   "cell_type": "code",
   "execution_count": 102,
   "metadata": {},
   "outputs": [],
   "source": [
    "gow_df = pd.read_csv('./data/GoWposts')"
   ]
  },
  {
   "cell_type": "code",
   "execution_count": 103,
   "metadata": {},
   "outputs": [
    {
     "data": {
      "text/html": [
       "<div>\n",
       "<style scoped>\n",
       "    .dataframe tbody tr th:only-of-type {\n",
       "        vertical-align: middle;\n",
       "    }\n",
       "\n",
       "    .dataframe tbody tr th {\n",
       "        vertical-align: top;\n",
       "    }\n",
       "\n",
       "    .dataframe thead th {\n",
       "        text-align: right;\n",
       "    }\n",
       "</style>\n",
       "<table border=\"1\" class=\"dataframe\">\n",
       "  <thead>\n",
       "    <tr style=\"text-align: right;\">\n",
       "      <th></th>\n",
       "      <th>subreddit</th>\n",
       "      <th>name</th>\n",
       "      <th>title</th>\n",
       "      <th>post_paragraph</th>\n",
       "      <th>score</th>\n",
       "      <th>subreddit_type</th>\n",
       "      <th>link_flair_text</th>\n",
       "    </tr>\n",
       "  </thead>\n",
       "  <tbody>\n",
       "    <tr>\n",
       "      <th>0</th>\n",
       "      <td>GodofWar</td>\n",
       "      <td>t3_a3wlrs</td>\n",
       "      <td>God of War = Game of the Year Megathread</td>\n",
       "      <td>God of War won in the following categories of ...</td>\n",
       "      <td>1653</td>\n",
       "      <td>public</td>\n",
       "      <td>NaN</td>\n",
       "    </tr>\n",
       "    <tr>\n",
       "      <th>1</th>\n",
       "      <td>GodofWar</td>\n",
       "      <td>t3_car8er</td>\n",
       "      <td>Possible cameo in the next games... (Spoilers)</td>\n",
       "      <td>In this game we see Jormungandr who, in Norse ...</td>\n",
       "      <td>167</td>\n",
       "      <td>public</td>\n",
       "      <td>NaN</td>\n",
       "    </tr>\n",
       "    <tr>\n",
       "      <th>2</th>\n",
       "      <td>GodofWar</td>\n",
       "      <td>t3_cakipc</td>\n",
       "      <td>Valkyries</td>\n",
       "      <td>I finally beat my first Valkyrie, I ascended t...</td>\n",
       "      <td>142</td>\n",
       "      <td>public</td>\n",
       "      <td>NaN</td>\n",
       "    </tr>\n",
       "    <tr>\n",
       "      <th>3</th>\n",
       "      <td>GodofWar</td>\n",
       "      <td>t3_canoeb</td>\n",
       "      <td>Best boss from each game</td>\n",
       "      <td>What do you think is the best boss from each g...</td>\n",
       "      <td>31</td>\n",
       "      <td>public</td>\n",
       "      <td>Spoilers</td>\n",
       "    </tr>\n",
       "    <tr>\n",
       "      <th>4</th>\n",
       "      <td>GodofWar</td>\n",
       "      <td>t3_cafsjf</td>\n",
       "      <td>WOMEN OF KRATOS</td>\n",
       "      <td>How many women in here that play GOW? Been pla...</td>\n",
       "      <td>277</td>\n",
       "      <td>public</td>\n",
       "      <td>NaN</td>\n",
       "    </tr>\n",
       "  </tbody>\n",
       "</table>\n",
       "</div>"
      ],
      "text/plain": [
       "  subreddit       name                                           title  \\\n",
       "0  GodofWar  t3_a3wlrs        God of War = Game of the Year Megathread   \n",
       "1  GodofWar  t3_car8er  Possible cameo in the next games... (Spoilers)   \n",
       "2  GodofWar  t3_cakipc                                       Valkyries   \n",
       "3  GodofWar  t3_canoeb                        Best boss from each game   \n",
       "4  GodofWar  t3_cafsjf                                 WOMEN OF KRATOS   \n",
       "\n",
       "                                      post_paragraph  score subreddit_type  \\\n",
       "0  God of War won in the following categories of ...   1653         public   \n",
       "1  In this game we see Jormungandr who, in Norse ...    167         public   \n",
       "2  I finally beat my first Valkyrie, I ascended t...    142         public   \n",
       "3  What do you think is the best boss from each g...     31         public   \n",
       "4  How many women in here that play GOW? Been pla...    277         public   \n",
       "\n",
       "  link_flair_text  \n",
       "0             NaN  \n",
       "1             NaN  \n",
       "2             NaN  \n",
       "3        Spoilers  \n",
       "4             NaN  "
      ]
     },
     "execution_count": 103,
     "metadata": {},
     "output_type": "execute_result"
    }
   ],
   "source": [
    "gow_df.head()"
   ]
  },
  {
   "cell_type": "code",
   "execution_count": 104,
   "metadata": {},
   "outputs": [
    {
     "data": {
      "text/plain": [
       "(951, 7)"
      ]
     },
     "execution_count": 104,
     "metadata": {},
     "output_type": "execute_result"
    }
   ],
   "source": [
    "gow_df.shape"
   ]
  },
  {
   "cell_type": "code",
   "execution_count": 105,
   "metadata": {},
   "outputs": [],
   "source": [
    "#same for zelda_df as above\n",
    "z_df = pd.read_csv('./data/true_zelda_reddit')"
   ]
  },
  {
   "cell_type": "code",
   "execution_count": 106,
   "metadata": {},
   "outputs": [
    {
     "data": {
      "text/plain": [
       "(725, 7)"
      ]
     },
     "execution_count": 106,
     "metadata": {},
     "output_type": "execute_result"
    }
   ],
   "source": [
    "z_df.shape"
   ]
  },
  {
   "cell_type": "code",
   "execution_count": 107,
   "metadata": {},
   "outputs": [
    {
     "data": {
      "text/html": [
       "<div>\n",
       "<style scoped>\n",
       "    .dataframe tbody tr th:only-of-type {\n",
       "        vertical-align: middle;\n",
       "    }\n",
       "\n",
       "    .dataframe tbody tr th {\n",
       "        vertical-align: top;\n",
       "    }\n",
       "\n",
       "    .dataframe thead th {\n",
       "        text-align: right;\n",
       "    }\n",
       "</style>\n",
       "<table border=\"1\" class=\"dataframe\">\n",
       "  <thead>\n",
       "    <tr style=\"text-align: right;\">\n",
       "      <th></th>\n",
       "      <th>subreddit</th>\n",
       "      <th>name</th>\n",
       "      <th>title</th>\n",
       "      <th>post_paragraph</th>\n",
       "      <th>score</th>\n",
       "      <th>subreddit_type</th>\n",
       "      <th>link_flair_text</th>\n",
       "    </tr>\n",
       "  </thead>\n",
       "  <tbody>\n",
       "    <tr>\n",
       "      <th>0</th>\n",
       "      <td>truezelda</td>\n",
       "      <td>t3_cb0ltc</td>\n",
       "      <td>What are some details/easter eggs/trivia in Wi...</td>\n",
       "      <td>I asked a similar question a while back [regar...</td>\n",
       "      <td>47</td>\n",
       "      <td>public</td>\n",
       "      <td>NaN</td>\n",
       "    </tr>\n",
       "    <tr>\n",
       "      <th>1</th>\n",
       "      <td>truezelda</td>\n",
       "      <td>t3_cb1ahn</td>\n",
       "      <td>New Blood Moon? (BotW2)</td>\n",
       "      <td>What do you think will be the new blood moon m...</td>\n",
       "      <td>6</td>\n",
       "      <td>public</td>\n",
       "      <td>NaN</td>\n",
       "    </tr>\n",
       "    <tr>\n",
       "      <th>2</th>\n",
       "      <td>truezelda</td>\n",
       "      <td>t3_catrep</td>\n",
       "      <td>The New Champions Abilities</td>\n",
       "      <td>So, the Champions were chosen for their abilit...</td>\n",
       "      <td>47</td>\n",
       "      <td>public</td>\n",
       "      <td>NaN</td>\n",
       "    </tr>\n",
       "    <tr>\n",
       "      <th>3</th>\n",
       "      <td>truezelda</td>\n",
       "      <td>t3_cau51l</td>\n",
       "      <td>Every The Legend of Zelda Spirit Battle Explai...</td>\n",
       "      <td>https://www.youtube.com/watch?v=B9MAPbuNvHs</td>\n",
       "      <td>29</td>\n",
       "      <td>public</td>\n",
       "      <td>NaN</td>\n",
       "    </tr>\n",
       "    <tr>\n",
       "      <th>4</th>\n",
       "      <td>truezelda</td>\n",
       "      <td>t3_careb3</td>\n",
       "      <td>Lomei vs. Zonai</td>\n",
       "      <td>Are these two the same? Just thought I’d get a...</td>\n",
       "      <td>36</td>\n",
       "      <td>public</td>\n",
       "      <td>NaN</td>\n",
       "    </tr>\n",
       "  </tbody>\n",
       "</table>\n",
       "</div>"
      ],
      "text/plain": [
       "   subreddit       name                                              title  \\\n",
       "0  truezelda  t3_cb0ltc  What are some details/easter eggs/trivia in Wi...   \n",
       "1  truezelda  t3_cb1ahn                            New Blood Moon? (BotW2)   \n",
       "2  truezelda  t3_catrep                        The New Champions Abilities   \n",
       "3  truezelda  t3_cau51l  Every The Legend of Zelda Spirit Battle Explai...   \n",
       "4  truezelda  t3_careb3                                    Lomei vs. Zonai   \n",
       "\n",
       "                                      post_paragraph  score subreddit_type  \\\n",
       "0  I asked a similar question a while back [regar...     47         public   \n",
       "1  What do you think will be the new blood moon m...      6         public   \n",
       "2  So, the Champions were chosen for their abilit...     47         public   \n",
       "3        https://www.youtube.com/watch?v=B9MAPbuNvHs     29         public   \n",
       "4  Are these two the same? Just thought I’d get a...     36         public   \n",
       "\n",
       "   link_flair_text  \n",
       "0              NaN  \n",
       "1              NaN  \n",
       "2              NaN  \n",
       "3              NaN  \n",
       "4              NaN  "
      ]
     },
     "execution_count": 107,
     "metadata": {},
     "output_type": "execute_result"
    }
   ],
   "source": [
    "z_df.head()"
   ]
  },
  {
   "cell_type": "code",
   "execution_count": 109,
   "metadata": {},
   "outputs": [],
   "source": [
    "df = gow_df.append(z_df, ignore_index=True)"
   ]
  },
  {
   "cell_type": "code",
   "execution_count": null,
   "metadata": {},
   "outputs": [],
   "source": [
    "#confirm everything is stacked properly"
   ]
  },
  {
   "cell_type": "code",
   "execution_count": 112,
   "metadata": {},
   "outputs": [
    {
     "data": {
      "text/html": [
       "<div>\n",
       "<style scoped>\n",
       "    .dataframe tbody tr th:only-of-type {\n",
       "        vertical-align: middle;\n",
       "    }\n",
       "\n",
       "    .dataframe tbody tr th {\n",
       "        vertical-align: top;\n",
       "    }\n",
       "\n",
       "    .dataframe thead th {\n",
       "        text-align: right;\n",
       "    }\n",
       "</style>\n",
       "<table border=\"1\" class=\"dataframe\">\n",
       "  <thead>\n",
       "    <tr style=\"text-align: right;\">\n",
       "      <th></th>\n",
       "      <th>subreddit</th>\n",
       "      <th>name</th>\n",
       "      <th>title</th>\n",
       "      <th>post_paragraph</th>\n",
       "      <th>score</th>\n",
       "      <th>subreddit_type</th>\n",
       "      <th>link_flair_text</th>\n",
       "    </tr>\n",
       "  </thead>\n",
       "  <tbody>\n",
       "    <tr>\n",
       "      <th>1673</th>\n",
       "      <td>truezelda</td>\n",
       "      <td>t3_ad72cr</td>\n",
       "      <td>Which palaces and temples and places are the s...</td>\n",
       "      <td>Especially in ALBW, which has the same overwor...</td>\n",
       "      <td>5</td>\n",
       "      <td>public</td>\n",
       "      <td>NaN</td>\n",
       "    </tr>\n",
       "    <tr>\n",
       "      <th>1674</th>\n",
       "      <td>truezelda</td>\n",
       "      <td>t3_ad2xj1</td>\n",
       "      <td>I really hope Ryo Nagamatsu becomes a mainstay...</td>\n",
       "      <td>Nagamatsu’s first work as the main music compo...</td>\n",
       "      <td>20</td>\n",
       "      <td>public</td>\n",
       "      <td>NaN</td>\n",
       "    </tr>\n",
       "    <tr>\n",
       "      <th>1675</th>\n",
       "      <td>truezelda</td>\n",
       "      <td>t3_acuo8g</td>\n",
       "      <td>I love Adventure of Link for its real fantasy ...</td>\n",
       "      <td>Don't get me wrong i'm really a zelda fan but ...</td>\n",
       "      <td>64</td>\n",
       "      <td>public</td>\n",
       "      <td>NaN</td>\n",
       "    </tr>\n",
       "  </tbody>\n",
       "</table>\n",
       "</div>"
      ],
      "text/plain": [
       "      subreddit       name                                              title  \\\n",
       "1673  truezelda  t3_ad72cr  Which palaces and temples and places are the s...   \n",
       "1674  truezelda  t3_ad2xj1  I really hope Ryo Nagamatsu becomes a mainstay...   \n",
       "1675  truezelda  t3_acuo8g  I love Adventure of Link for its real fantasy ...   \n",
       "\n",
       "                                         post_paragraph  score subreddit_type  \\\n",
       "1673  Especially in ALBW, which has the same overwor...      5         public   \n",
       "1674  Nagamatsu’s first work as the main music compo...     20         public   \n",
       "1675  Don't get me wrong i'm really a zelda fan but ...     64         public   \n",
       "\n",
       "     link_flair_text  \n",
       "1673             NaN  \n",
       "1674             NaN  \n",
       "1675             NaN  "
      ]
     },
     "execution_count": 112,
     "metadata": {},
     "output_type": "execute_result"
    }
   ],
   "source": [
    "df.tail(3)"
   ]
  },
  {
   "cell_type": "code",
   "execution_count": null,
   "metadata": {},
   "outputs": [],
   "source": [
    "# Create our target column"
   ]
  },
  {
   "cell_type": "code",
   "execution_count": 111,
   "metadata": {},
   "outputs": [
    {
     "data": {
      "text/plain": [
       "(1676, 7)"
      ]
     },
     "execution_count": 111,
     "metadata": {},
     "output_type": "execute_result"
    }
   ],
   "source": [
    "df.shape"
   ]
  },
  {
   "cell_type": "code",
   "execution_count": 115,
   "metadata": {},
   "outputs": [],
   "source": [
    "#colum entry is 1 if post came from God of war subreddit, and zero if zelda \n",
    "df['target'] = np.where(df['subreddit'] == 'GodofWar', 1, 0)"
   ]
  },
  {
   "cell_type": "code",
   "execution_count": 116,
   "metadata": {},
   "outputs": [
    {
     "data": {
      "text/html": [
       "<div>\n",
       "<style scoped>\n",
       "    .dataframe tbody tr th:only-of-type {\n",
       "        vertical-align: middle;\n",
       "    }\n",
       "\n",
       "    .dataframe tbody tr th {\n",
       "        vertical-align: top;\n",
       "    }\n",
       "\n",
       "    .dataframe thead th {\n",
       "        text-align: right;\n",
       "    }\n",
       "</style>\n",
       "<table border=\"1\" class=\"dataframe\">\n",
       "  <thead>\n",
       "    <tr style=\"text-align: right;\">\n",
       "      <th></th>\n",
       "      <th>subreddit</th>\n",
       "      <th>name</th>\n",
       "      <th>title</th>\n",
       "      <th>post_paragraph</th>\n",
       "      <th>score</th>\n",
       "      <th>subreddit_type</th>\n",
       "      <th>link_flair_text</th>\n",
       "      <th>target</th>\n",
       "    </tr>\n",
       "  </thead>\n",
       "  <tbody>\n",
       "    <tr>\n",
       "      <th>0</th>\n",
       "      <td>GodofWar</td>\n",
       "      <td>t3_a3wlrs</td>\n",
       "      <td>God of War = Game of the Year Megathread</td>\n",
       "      <td>God of War won in the following categories of ...</td>\n",
       "      <td>1653</td>\n",
       "      <td>public</td>\n",
       "      <td>NaN</td>\n",
       "      <td>1</td>\n",
       "    </tr>\n",
       "    <tr>\n",
       "      <th>1</th>\n",
       "      <td>GodofWar</td>\n",
       "      <td>t3_car8er</td>\n",
       "      <td>Possible cameo in the next games... (Spoilers)</td>\n",
       "      <td>In this game we see Jormungandr who, in Norse ...</td>\n",
       "      <td>167</td>\n",
       "      <td>public</td>\n",
       "      <td>NaN</td>\n",
       "      <td>1</td>\n",
       "    </tr>\n",
       "    <tr>\n",
       "      <th>2</th>\n",
       "      <td>GodofWar</td>\n",
       "      <td>t3_cakipc</td>\n",
       "      <td>Valkyries</td>\n",
       "      <td>I finally beat my first Valkyrie, I ascended t...</td>\n",
       "      <td>142</td>\n",
       "      <td>public</td>\n",
       "      <td>NaN</td>\n",
       "      <td>1</td>\n",
       "    </tr>\n",
       "    <tr>\n",
       "      <th>3</th>\n",
       "      <td>GodofWar</td>\n",
       "      <td>t3_canoeb</td>\n",
       "      <td>Best boss from each game</td>\n",
       "      <td>What do you think is the best boss from each g...</td>\n",
       "      <td>31</td>\n",
       "      <td>public</td>\n",
       "      <td>Spoilers</td>\n",
       "      <td>1</td>\n",
       "    </tr>\n",
       "    <tr>\n",
       "      <th>4</th>\n",
       "      <td>GodofWar</td>\n",
       "      <td>t3_cafsjf</td>\n",
       "      <td>WOMEN OF KRATOS</td>\n",
       "      <td>How many women in here that play GOW? Been pla...</td>\n",
       "      <td>277</td>\n",
       "      <td>public</td>\n",
       "      <td>NaN</td>\n",
       "      <td>1</td>\n",
       "    </tr>\n",
       "  </tbody>\n",
       "</table>\n",
       "</div>"
      ],
      "text/plain": [
       "  subreddit       name                                           title  \\\n",
       "0  GodofWar  t3_a3wlrs        God of War = Game of the Year Megathread   \n",
       "1  GodofWar  t3_car8er  Possible cameo in the next games... (Spoilers)   \n",
       "2  GodofWar  t3_cakipc                                       Valkyries   \n",
       "3  GodofWar  t3_canoeb                        Best boss from each game   \n",
       "4  GodofWar  t3_cafsjf                                 WOMEN OF KRATOS   \n",
       "\n",
       "                                      post_paragraph  score subreddit_type  \\\n",
       "0  God of War won in the following categories of ...   1653         public   \n",
       "1  In this game we see Jormungandr who, in Norse ...    167         public   \n",
       "2  I finally beat my first Valkyrie, I ascended t...    142         public   \n",
       "3  What do you think is the best boss from each g...     31         public   \n",
       "4  How many women in here that play GOW? Been pla...    277         public   \n",
       "\n",
       "  link_flair_text  target  \n",
       "0             NaN       1  \n",
       "1             NaN       1  \n",
       "2             NaN       1  \n",
       "3        Spoilers       1  \n",
       "4             NaN       1  "
      ]
     },
     "execution_count": 116,
     "metadata": {},
     "output_type": "execute_result"
    }
   ],
   "source": [
    "df.head()"
   ]
  },
  {
   "cell_type": "code",
   "execution_count": null,
   "metadata": {},
   "outputs": [],
   "source": [
    "#Look for columns that don't have any values and can be dropped"
   ]
  },
  {
   "cell_type": "code",
   "execution_count": 121,
   "metadata": {},
   "outputs": [
    {
     "data": {
      "text/plain": [
       "41"
      ]
     },
     "execution_count": 121,
     "metadata": {},
     "output_type": "execute_result"
    }
   ],
   "source": [
    "df['post_paragraph'].isnull().sum()"
   ]
  },
  {
   "cell_type": "code",
   "execution_count": 120,
   "metadata": {},
   "outputs": [
    {
     "data": {
      "text/plain": [
       "0"
      ]
     },
     "execution_count": 120,
     "metadata": {},
     "output_type": "execute_result"
    }
   ],
   "source": [
    "#rows where post_paragraph = NaN only have titles for text.  Instead of dropping these rows, I will replace NaNs \n",
    "#empty strings\n",
    "df['title'].isnull().sum()"
   ]
  },
  {
   "cell_type": "code",
   "execution_count": 123,
   "metadata": {},
   "outputs": [],
   "source": [
    "df['post_paragraph'] = df.post_paragraph.fillna('')"
   ]
  },
  {
   "cell_type": "code",
   "execution_count": 141,
   "metadata": {},
   "outputs": [
    {
     "data": {
      "text/html": [
       "<div>\n",
       "<style scoped>\n",
       "    .dataframe tbody tr th:only-of-type {\n",
       "        vertical-align: middle;\n",
       "    }\n",
       "\n",
       "    .dataframe tbody tr th {\n",
       "        vertical-align: top;\n",
       "    }\n",
       "\n",
       "    .dataframe thead th {\n",
       "        text-align: right;\n",
       "    }\n",
       "</style>\n",
       "<table border=\"1\" class=\"dataframe\">\n",
       "  <thead>\n",
       "    <tr style=\"text-align: right;\">\n",
       "      <th></th>\n",
       "      <th>subreddit</th>\n",
       "      <th>name</th>\n",
       "      <th>title</th>\n",
       "      <th>post_paragraph</th>\n",
       "      <th>score</th>\n",
       "      <th>subreddit_type</th>\n",
       "      <th>link_flair_text</th>\n",
       "      <th>target</th>\n",
       "    </tr>\n",
       "  </thead>\n",
       "  <tbody>\n",
       "    <tr>\n",
       "      <th>0</th>\n",
       "      <td>GodofWar</td>\n",
       "      <td>t3_a3wlrs</td>\n",
       "      <td>God of War = Game of the Year Megathread</td>\n",
       "      <td>God of War won in the following categories of ...</td>\n",
       "      <td>1653</td>\n",
       "      <td>public</td>\n",
       "      <td>NaN</td>\n",
       "      <td>1</td>\n",
       "    </tr>\n",
       "    <tr>\n",
       "      <th>1</th>\n",
       "      <td>GodofWar</td>\n",
       "      <td>t3_car8er</td>\n",
       "      <td>Possible cameo in the next games... (Spoilers)</td>\n",
       "      <td>In this game we see Jormungandr who, in Norse ...</td>\n",
       "      <td>167</td>\n",
       "      <td>public</td>\n",
       "      <td>NaN</td>\n",
       "      <td>1</td>\n",
       "    </tr>\n",
       "    <tr>\n",
       "      <th>2</th>\n",
       "      <td>GodofWar</td>\n",
       "      <td>t3_cakipc</td>\n",
       "      <td>Valkyries</td>\n",
       "      <td>I finally beat my first Valkyrie, I ascended t...</td>\n",
       "      <td>142</td>\n",
       "      <td>public</td>\n",
       "      <td>NaN</td>\n",
       "      <td>1</td>\n",
       "    </tr>\n",
       "    <tr>\n",
       "      <th>3</th>\n",
       "      <td>GodofWar</td>\n",
       "      <td>t3_canoeb</td>\n",
       "      <td>Best boss from each game</td>\n",
       "      <td>What do you think is the best boss from each g...</td>\n",
       "      <td>31</td>\n",
       "      <td>public</td>\n",
       "      <td>Spoilers</td>\n",
       "      <td>1</td>\n",
       "    </tr>\n",
       "    <tr>\n",
       "      <th>4</th>\n",
       "      <td>GodofWar</td>\n",
       "      <td>t3_cafsjf</td>\n",
       "      <td>WOMEN OF KRATOS</td>\n",
       "      <td>How many women in here that play GOW? Been pla...</td>\n",
       "      <td>277</td>\n",
       "      <td>public</td>\n",
       "      <td>NaN</td>\n",
       "      <td>1</td>\n",
       "    </tr>\n",
       "    <tr>\n",
       "      <th>5</th>\n",
       "      <td>GodofWar</td>\n",
       "      <td>t3_cau83n</td>\n",
       "      <td>Realm Tear Encounters in Niflheim - Worth it?</td>\n",
       "      <td>So I've beaten the story, have the full Ivaldi...</td>\n",
       "      <td>3</td>\n",
       "      <td>public</td>\n",
       "      <td>NaN</td>\n",
       "      <td>1</td>\n",
       "    </tr>\n",
       "    <tr>\n",
       "      <th>6</th>\n",
       "      <td>GodofWar</td>\n",
       "      <td>t3_cav42a</td>\n",
       "      <td>The road to play platinum in God of War is the...</td>\n",
       "      <td>The story is just incredible, and then afterwa...</td>\n",
       "      <td>3</td>\n",
       "      <td>public</td>\n",
       "      <td>NaN</td>\n",
       "      <td>1</td>\n",
       "    </tr>\n",
       "    <tr>\n",
       "      <th>7</th>\n",
       "      <td>GodofWar</td>\n",
       "      <td>t3_capukq</td>\n",
       "      <td>Valkyries</td>\n",
       "      <td>So I’m on the queen Valkyrie and I have no ide...</td>\n",
       "      <td>9</td>\n",
       "      <td>public</td>\n",
       "      <td>NaN</td>\n",
       "      <td>1</td>\n",
       "    </tr>\n",
       "    <tr>\n",
       "      <th>8</th>\n",
       "      <td>GodofWar</td>\n",
       "      <td>t3_casqc2</td>\n",
       "      <td>Vitality</td>\n",
       "      <td>I really enjoy this fascinating game, but my g...</td>\n",
       "      <td>3</td>\n",
       "      <td>public</td>\n",
       "      <td>NaN</td>\n",
       "      <td>1</td>\n",
       "    </tr>\n",
       "    <tr>\n",
       "      <th>9</th>\n",
       "      <td>GodofWar</td>\n",
       "      <td>t3_cank69</td>\n",
       "      <td>I missed the Eye of the Outer Realm</td>\n",
       "      <td>I missed the Eye of the Outer Realm when in th...</td>\n",
       "      <td>11</td>\n",
       "      <td>public</td>\n",
       "      <td>NaN</td>\n",
       "      <td>1</td>\n",
       "    </tr>\n",
       "  </tbody>\n",
       "</table>\n",
       "</div>"
      ],
      "text/plain": [
       "  subreddit       name                                              title  \\\n",
       "0  GodofWar  t3_a3wlrs           God of War = Game of the Year Megathread   \n",
       "1  GodofWar  t3_car8er     Possible cameo in the next games... (Spoilers)   \n",
       "2  GodofWar  t3_cakipc                                          Valkyries   \n",
       "3  GodofWar  t3_canoeb                           Best boss from each game   \n",
       "4  GodofWar  t3_cafsjf                                    WOMEN OF KRATOS   \n",
       "5  GodofWar  t3_cau83n      Realm Tear Encounters in Niflheim - Worth it?   \n",
       "6  GodofWar  t3_cav42a  The road to play platinum in God of War is the...   \n",
       "7  GodofWar  t3_capukq                                          Valkyries   \n",
       "8  GodofWar  t3_casqc2                                           Vitality   \n",
       "9  GodofWar  t3_cank69                I missed the Eye of the Outer Realm   \n",
       "\n",
       "                                      post_paragraph  score subreddit_type  \\\n",
       "0  God of War won in the following categories of ...   1653         public   \n",
       "1  In this game we see Jormungandr who, in Norse ...    167         public   \n",
       "2  I finally beat my first Valkyrie, I ascended t...    142         public   \n",
       "3  What do you think is the best boss from each g...     31         public   \n",
       "4  How many women in here that play GOW? Been pla...    277         public   \n",
       "5  So I've beaten the story, have the full Ivaldi...      3         public   \n",
       "6  The story is just incredible, and then afterwa...      3         public   \n",
       "7  So I’m on the queen Valkyrie and I have no ide...      9         public   \n",
       "8  I really enjoy this fascinating game, but my g...      3         public   \n",
       "9  I missed the Eye of the Outer Realm when in th...     11         public   \n",
       "\n",
       "  link_flair_text  target  \n",
       "0             NaN       1  \n",
       "1             NaN       1  \n",
       "2             NaN       1  \n",
       "3        Spoilers       1  \n",
       "4             NaN       1  \n",
       "5             NaN       1  \n",
       "6             NaN       1  \n",
       "7             NaN       1  \n",
       "8             NaN       1  \n",
       "9             NaN       1  "
      ]
     },
     "execution_count": 141,
     "metadata": {},
     "output_type": "execute_result"
    }
   ],
   "source": [
    "df.head(n=10)"
   ]
  },
  {
   "cell_type": "code",
   "execution_count": 149,
   "metadata": {},
   "outputs": [
    {
     "data": {
      "text/plain": [
       "False    1676\n",
       "Name: name, dtype: int64"
      ]
     },
     "execution_count": 149,
     "metadata": {},
     "output_type": "execute_result"
    }
   ],
   "source": [
    "#one last check for duplicates\n",
    "df['name'].duplicated(keep = False).value_counts()"
   ]
  },
  {
   "cell_type": "code",
   "execution_count": 154,
   "metadata": {},
   "outputs": [
    {
     "data": {
      "text/plain": [
       "subreddit                                                  truezelda\n",
       "name                                                       t3_aeyd3o\n",
       "title              Do we, around here at least, have a consensus ...\n",
       "post_paragraph                                                      \n",
       "score                                                             11\n",
       "subreddit_type                                                public\n",
       "link_flair_text                                                  NaN\n",
       "target                                                             0\n",
       "Name: 1653, dtype: object"
      ]
     },
     "execution_count": 154,
     "metadata": {},
     "output_type": "execute_result"
    }
   ],
   "source": [
    "df.iloc[1653]"
   ]
  },
  {
   "cell_type": "code",
   "execution_count": 151,
   "metadata": {},
   "outputs": [],
   "source": [
    "temp = pd.DataFrame(df['post_paragraph'] != '')"
   ]
  },
  {
   "cell_type": "code",
   "execution_count": 836,
   "metadata": {},
   "outputs": [
    {
     "data": {
      "text/plain": [
       "False    1631\n",
       "True       45\n",
       "Name: post_paragraph, dtype: int64"
      ]
     },
     "execution_count": 836,
     "metadata": {},
     "output_type": "execute_result"
    }
   ],
   "source": [
    "df['post_paragraph'].duplicated(keep = False).value_counts()"
   ]
  },
  {
   "cell_type": "code",
   "execution_count": 839,
   "metadata": {},
   "outputs": [
    {
     "data": {
      "text/plain": [
       "1    951\n",
       "0    725\n",
       "Name: target, dtype: int64"
      ]
     },
     "execution_count": 839,
     "metadata": {},
     "output_type": "execute_result"
    }
   ],
   "source": [
    "df['target'].value_counts()"
   ]
  },
  {
   "cell_type": "markdown",
   "metadata": {},
   "source": [
    "#### Base accuracy is  0.567"
   ]
  },
  {
   "cell_type": "markdown",
   "metadata": {},
   "source": [
    "#### After cleaning convert to master .csv"
   ]
  },
  {
   "cell_type": "code",
   "execution_count": 155,
   "metadata": {},
   "outputs": [],
   "source": [
    "df.to_csv('master_df.csv', index=False, sep=\",\")"
   ]
  },
  {
   "cell_type": "markdown",
   "metadata": {},
   "source": [
    "## Commence with NLP"
   ]
  },
  {
   "cell_type": "code",
   "execution_count": 156,
   "metadata": {},
   "outputs": [],
   "source": [
    "lemmatizer = WordNetLemmatizer()"
   ]
  },
  {
   "cell_type": "code",
   "execution_count": 166,
   "metadata": {},
   "outputs": [],
   "source": [
    "tokenizer = RegexpTokenizer(r'\\w+')"
   ]
  },
  {
   "cell_type": "code",
   "execution_count": 157,
   "metadata": {},
   "outputs": [],
   "source": [
    "df = pd.read_csv('./master_df.csv')"
   ]
  },
  {
   "cell_type": "code",
   "execution_count": 158,
   "metadata": {},
   "outputs": [
    {
     "data": {
      "text/plain": [
       "Index(['subreddit', 'name', 'title', 'post_paragraph', 'score',\n",
       "       'subreddit_type', 'link_flair_text', 'target'],\n",
       "      dtype='object')"
      ]
     },
     "execution_count": 158,
     "metadata": {},
     "output_type": "execute_result"
    }
   ],
   "source": [
    "df.columns"
   ]
  },
  {
   "cell_type": "code",
   "execution_count": 254,
   "metadata": {},
   "outputs": [
    {
     "data": {
      "text/plain": [
       "41"
      ]
     },
     "execution_count": 254,
     "metadata": {},
     "output_type": "execute_result"
    }
   ],
   "source": [
    "df['post_paragraph'].isnull().sum()"
   ]
  },
  {
   "cell_type": "code",
   "execution_count": 255,
   "metadata": {},
   "outputs": [],
   "source": [
    "df['post_paragraph'] = df['post_paragraph'].replace(np.nan, \"\")"
   ]
  },
  {
   "cell_type": "code",
   "execution_count": 256,
   "metadata": {},
   "outputs": [
    {
     "data": {
      "text/plain": [
       "0"
      ]
     },
     "execution_count": 256,
     "metadata": {},
     "output_type": "execute_result"
    }
   ],
   "source": [
    "df['post_paragraph'].isnull().sum()"
   ]
  },
  {
   "cell_type": "code",
   "execution_count": 257,
   "metadata": {},
   "outputs": [
    {
     "data": {
      "text/html": [
       "<div>\n",
       "<style scoped>\n",
       "    .dataframe tbody tr th:only-of-type {\n",
       "        vertical-align: middle;\n",
       "    }\n",
       "\n",
       "    .dataframe tbody tr th {\n",
       "        vertical-align: top;\n",
       "    }\n",
       "\n",
       "    .dataframe thead th {\n",
       "        text-align: right;\n",
       "    }\n",
       "</style>\n",
       "<table border=\"1\" class=\"dataframe\">\n",
       "  <thead>\n",
       "    <tr style=\"text-align: right;\">\n",
       "      <th></th>\n",
       "      <th>subreddit</th>\n",
       "      <th>name</th>\n",
       "      <th>title</th>\n",
       "      <th>post_paragraph</th>\n",
       "      <th>score</th>\n",
       "      <th>subreddit_type</th>\n",
       "      <th>link_flair_text</th>\n",
       "      <th>target</th>\n",
       "      <th>title_clean</th>\n",
       "      <th>post_paragraph_clean</th>\n",
       "    </tr>\n",
       "  </thead>\n",
       "  <tbody>\n",
       "    <tr>\n",
       "      <th>0</th>\n",
       "      <td>GodofWar</td>\n",
       "      <td>t3_a3wlrs</td>\n",
       "      <td>God of War = Game of the Year Megathread</td>\n",
       "      <td>God of War won in the following categories of ...</td>\n",
       "      <td>1653</td>\n",
       "      <td>public</td>\n",
       "      <td>NaN</td>\n",
       "      <td>1</td>\n",
       "      <td>game the year megathread</td>\n",
       "      <td>won in the following category game award game ...</td>\n",
       "    </tr>\n",
       "    <tr>\n",
       "      <th>1</th>\n",
       "      <td>GodofWar</td>\n",
       "      <td>t3_car8er</td>\n",
       "      <td>Possible cameo in the next games... (Spoilers)</td>\n",
       "      <td>In this game we see Jormungandr who, in Norse ...</td>\n",
       "      <td>167</td>\n",
       "      <td>public</td>\n",
       "      <td>NaN</td>\n",
       "      <td>1</td>\n",
       "      <td>possible cameo in the next game spoiler</td>\n",
       "      <td>in this game we see jormungandr who norse myth...</td>\n",
       "    </tr>\n",
       "    <tr>\n",
       "      <th>2</th>\n",
       "      <td>GodofWar</td>\n",
       "      <td>t3_cakipc</td>\n",
       "      <td>Valkyries</td>\n",
       "      <td>I finally beat my first Valkyrie, I ascended t...</td>\n",
       "      <td>142</td>\n",
       "      <td>public</td>\n",
       "      <td>NaN</td>\n",
       "      <td>1</td>\n",
       "      <td>valkyrie</td>\n",
       "      <td>i finally beat my first valkyrie ascended the ...</td>\n",
       "    </tr>\n",
       "    <tr>\n",
       "      <th>3</th>\n",
       "      <td>GodofWar</td>\n",
       "      <td>t3_canoeb</td>\n",
       "      <td>Best boss from each game</td>\n",
       "      <td>What do you think is the best boss from each g...</td>\n",
       "      <td>31</td>\n",
       "      <td>public</td>\n",
       "      <td>Spoilers</td>\n",
       "      <td>1</td>\n",
       "      <td>best bos from each game</td>\n",
       "      <td>what do you think is the best bos from each ga...</td>\n",
       "    </tr>\n",
       "    <tr>\n",
       "      <th>4</th>\n",
       "      <td>GodofWar</td>\n",
       "      <td>t3_cafsjf</td>\n",
       "      <td>WOMEN OF KRATOS</td>\n",
       "      <td>How many women in here that play GOW? Been pla...</td>\n",
       "      <td>277</td>\n",
       "      <td>public</td>\n",
       "      <td>NaN</td>\n",
       "      <td>1</td>\n",
       "      <td>woman kratos</td>\n",
       "      <td>how many woman in here that play gow been play...</td>\n",
       "    </tr>\n",
       "  </tbody>\n",
       "</table>\n",
       "</div>"
      ],
      "text/plain": [
       "  subreddit       name                                           title  \\\n",
       "0  GodofWar  t3_a3wlrs        God of War = Game of the Year Megathread   \n",
       "1  GodofWar  t3_car8er  Possible cameo in the next games... (Spoilers)   \n",
       "2  GodofWar  t3_cakipc                                       Valkyries   \n",
       "3  GodofWar  t3_canoeb                        Best boss from each game   \n",
       "4  GodofWar  t3_cafsjf                                 WOMEN OF KRATOS   \n",
       "\n",
       "                                      post_paragraph  score subreddit_type  \\\n",
       "0  God of War won in the following categories of ...   1653         public   \n",
       "1  In this game we see Jormungandr who, in Norse ...    167         public   \n",
       "2  I finally beat my first Valkyrie, I ascended t...    142         public   \n",
       "3  What do you think is the best boss from each g...     31         public   \n",
       "4  How many women in here that play GOW? Been pla...    277         public   \n",
       "\n",
       "  link_flair_text  target                              title_clean  \\\n",
       "0             NaN       1                 game the year megathread   \n",
       "1             NaN       1  possible cameo in the next game spoiler   \n",
       "2             NaN       1                                 valkyrie   \n",
       "3        Spoilers       1                  best bos from each game   \n",
       "4             NaN       1                             woman kratos   \n",
       "\n",
       "                                post_paragraph_clean  \n",
       "0  won in the following category game award game ...  \n",
       "1  in this game we see jormungandr who norse myth...  \n",
       "2  i finally beat my first valkyrie ascended the ...  \n",
       "3  what do you think is the best bos from each ga...  \n",
       "4  how many woman in here that play gow been play...  "
      ]
     },
     "execution_count": 257,
     "metadata": {},
     "output_type": "execute_result"
    }
   ],
   "source": [
    "df.head()"
   ]
  },
  {
   "cell_type": "code",
   "execution_count": 205,
   "metadata": {},
   "outputs": [],
   "source": [
    "#need a function to remove cheat words, make lower case, and lemmatize and return a column\n",
    "def column_cleaner(column, df=df):\n",
    "    \n",
    "    df[column+'_clean'] = \"\"\n",
    "    \n",
    "    #loop through each row in the column:\n",
    "    for i in range(len(df[column])):\n",
    "        \n",
    "        #Tokenize each word in column's string into its own string\n",
    "        col_tok = []\n",
    "        col_tok.extend(tokenizer.tokenize(df[column][i].lower()))\n",
    "        col_token = []\n",
    "        [col_token.append(s) for s in col_tok if s not in col_token]\n",
    "        \n",
    "        #Lemmatize the words \n",
    "        col_lem = []\n",
    "        for x in range(len(col_token)):\n",
    "            col_lem.append(lemmatizer.lemmatize(col_token[x]))\n",
    "        \n",
    "        #get rid of numbers and special characters\n",
    "        letters_only_col = []\n",
    "        for c in range(len(col_lem)):\n",
    "            letters_only_col.append(re.sub(\"[^a-zA-Z]\", \"\", col_lem[c]))\n",
    "        \n",
    "        #get rid of stopwords \n",
    "        col_words = [w for w in letters_only_col if not w in stopwords.words('english')]\n",
    "        \n",
    "        #get rid of subreddit title words \n",
    "        cheat_words = ['god', 'of' ,'war', 'zelda']\n",
    "        col_words = [w for w in letters_only_col if not w in cheat_words]\n",
    "        \n",
    "        #get rid of any 'None' objects that snuck in\n",
    "        col_words = list(filter(None, col_words))\n",
    "\n",
    "        #Join the lemmatized words - stopwords back to one long string (prep for\n",
    "        #vectorization, done outside/after this function):\n",
    "        col_words = \" \".join(col_words)\n",
    "\n",
    "        #Fill new column with 'cleaned' string from column:\n",
    "        df[column+'_clean'][i] = col_words"
   ]
  },
  {
   "cell_type": "code",
   "execution_count": 172,
   "metadata": {},
   "outputs": [
    {
     "name": "stderr",
     "output_type": "stream",
     "text": [
      "/Users/eliregen/anaconda3/envs/py36/lib/python3.6/site-packages/ipykernel_launcher.py:40: SettingWithCopyWarning: \n",
      "A value is trying to be set on a copy of a slice from a DataFrame\n",
      "\n",
      "See the caveats in the documentation: http://pandas.pydata.org/pandas-docs/stable/indexing.html#indexing-view-versus-copy\n"
     ]
    }
   ],
   "source": [
    "column_cleaner(column='title', df=df)"
   ]
  },
  {
   "cell_type": "code",
   "execution_count": 173,
   "metadata": {},
   "outputs": [
    {
     "data": {
      "text/plain": [
       "0    God of War won in the following categories of ...\n",
       "1    In this game we see Jormungandr who, in Norse ...\n",
       "2    I finally beat my first Valkyrie, I ascended t...\n",
       "3    What do you think is the best boss from each g...\n",
       "4    How many women in here that play GOW? Been pla...\n",
       "Name: post_paragraph, dtype: object"
      ]
     },
     "execution_count": 173,
     "metadata": {},
     "output_type": "execute_result"
    }
   ],
   "source": [
    "df['post_paragraph'].head()"
   ]
  },
  {
   "cell_type": "code",
   "execution_count": 206,
   "metadata": {
    "scrolled": false
   },
   "outputs": [
    {
     "name": "stderr",
     "output_type": "stream",
     "text": [
      "/Users/eliregen/anaconda3/envs/py36/lib/python3.6/site-packages/ipykernel_launcher.py:40: SettingWithCopyWarning: \n",
      "A value is trying to be set on a copy of a slice from a DataFrame\n",
      "\n",
      "See the caveats in the documentation: http://pandas.pydata.org/pandas-docs/stable/indexing.html#indexing-view-versus-copy\n"
     ]
    }
   ],
   "source": [
    "column_cleaner(column='post_paragraph', df=df)"
   ]
  },
  {
   "cell_type": "code",
   "execution_count": 258,
   "metadata": {},
   "outputs": [
    {
     "data": {
      "text/plain": [
       "41"
      ]
     },
     "execution_count": 258,
     "metadata": {},
     "output_type": "execute_result"
    }
   ],
   "source": [
    "df['post_paragraph_clean'].isnull().sum()"
   ]
  },
  {
   "cell_type": "code",
   "execution_count": 259,
   "metadata": {},
   "outputs": [],
   "source": [
    "df['post_paragraph_clean'] = df['post_paragraph_clean'].replace(np.nan, \"\")"
   ]
  },
  {
   "cell_type": "code",
   "execution_count": 260,
   "metadata": {},
   "outputs": [
    {
     "data": {
      "text/plain": [
       "0"
      ]
     },
     "execution_count": 260,
     "metadata": {},
     "output_type": "execute_result"
    }
   ],
   "source": [
    "df['post_paragraph_clean'].isnull().sum()"
   ]
  },
  {
   "cell_type": "code",
   "execution_count": 261,
   "metadata": {},
   "outputs": [],
   "source": [
    "df.to_csv('master_df_cleaned.csv', index=False, sep=\",\")"
   ]
  },
  {
   "cell_type": "code",
   "execution_count": 569,
   "metadata": {},
   "outputs": [],
   "source": [
    "df = pd.read_csv('./data/master_df_cleaned.csv')"
   ]
  },
  {
   "cell_type": "code",
   "execution_count": 281,
   "metadata": {},
   "outputs": [
    {
     "data": {
      "text/html": [
       "<div>\n",
       "<style scoped>\n",
       "    .dataframe tbody tr th:only-of-type {\n",
       "        vertical-align: middle;\n",
       "    }\n",
       "\n",
       "    .dataframe tbody tr th {\n",
       "        vertical-align: top;\n",
       "    }\n",
       "\n",
       "    .dataframe thead th {\n",
       "        text-align: right;\n",
       "    }\n",
       "</style>\n",
       "<table border=\"1\" class=\"dataframe\">\n",
       "  <thead>\n",
       "    <tr style=\"text-align: right;\">\n",
       "      <th></th>\n",
       "      <th>subreddit</th>\n",
       "      <th>name</th>\n",
       "      <th>title</th>\n",
       "      <th>post_paragraph</th>\n",
       "      <th>score</th>\n",
       "      <th>subreddit_type</th>\n",
       "      <th>link_flair_text</th>\n",
       "      <th>target</th>\n",
       "      <th>title_clean</th>\n",
       "      <th>post_paragraph_clean</th>\n",
       "    </tr>\n",
       "  </thead>\n",
       "  <tbody>\n",
       "    <tr>\n",
       "      <th>0</th>\n",
       "      <td>GodofWar</td>\n",
       "      <td>t3_a3wlrs</td>\n",
       "      <td>God of War = Game of the Year Megathread</td>\n",
       "      <td>God of War won in the following categories of ...</td>\n",
       "      <td>1653</td>\n",
       "      <td>public</td>\n",
       "      <td>NaN</td>\n",
       "      <td>1</td>\n",
       "      <td>game the year megathread</td>\n",
       "      <td>won in the following category game award game ...</td>\n",
       "    </tr>\n",
       "    <tr>\n",
       "      <th>1</th>\n",
       "      <td>GodofWar</td>\n",
       "      <td>t3_car8er</td>\n",
       "      <td>Possible cameo in the next games... (Spoilers)</td>\n",
       "      <td>In this game we see Jormungandr who, in Norse ...</td>\n",
       "      <td>167</td>\n",
       "      <td>public</td>\n",
       "      <td>NaN</td>\n",
       "      <td>1</td>\n",
       "      <td>possible cameo in the next game spoiler</td>\n",
       "      <td>in this game we see jormungandr who norse myth...</td>\n",
       "    </tr>\n",
       "    <tr>\n",
       "      <th>2</th>\n",
       "      <td>GodofWar</td>\n",
       "      <td>t3_cakipc</td>\n",
       "      <td>Valkyries</td>\n",
       "      <td>I finally beat my first Valkyrie, I ascended t...</td>\n",
       "      <td>142</td>\n",
       "      <td>public</td>\n",
       "      <td>NaN</td>\n",
       "      <td>1</td>\n",
       "      <td>valkyrie</td>\n",
       "      <td>i finally beat my first valkyrie ascended the ...</td>\n",
       "    </tr>\n",
       "    <tr>\n",
       "      <th>3</th>\n",
       "      <td>GodofWar</td>\n",
       "      <td>t3_canoeb</td>\n",
       "      <td>Best boss from each game</td>\n",
       "      <td>What do you think is the best boss from each g...</td>\n",
       "      <td>31</td>\n",
       "      <td>public</td>\n",
       "      <td>Spoilers</td>\n",
       "      <td>1</td>\n",
       "      <td>best bos from each game</td>\n",
       "      <td>what do you think is the best bos from each ga...</td>\n",
       "    </tr>\n",
       "    <tr>\n",
       "      <th>4</th>\n",
       "      <td>GodofWar</td>\n",
       "      <td>t3_cafsjf</td>\n",
       "      <td>WOMEN OF KRATOS</td>\n",
       "      <td>How many women in here that play GOW? Been pla...</td>\n",
       "      <td>277</td>\n",
       "      <td>public</td>\n",
       "      <td>NaN</td>\n",
       "      <td>1</td>\n",
       "      <td>woman kratos</td>\n",
       "      <td>how many woman in here that play gow been play...</td>\n",
       "    </tr>\n",
       "  </tbody>\n",
       "</table>\n",
       "</div>"
      ],
      "text/plain": [
       "  subreddit       name                                           title  \\\n",
       "0  GodofWar  t3_a3wlrs        God of War = Game of the Year Megathread   \n",
       "1  GodofWar  t3_car8er  Possible cameo in the next games... (Spoilers)   \n",
       "2  GodofWar  t3_cakipc                                       Valkyries   \n",
       "3  GodofWar  t3_canoeb                        Best boss from each game   \n",
       "4  GodofWar  t3_cafsjf                                 WOMEN OF KRATOS   \n",
       "\n",
       "                                      post_paragraph  score subreddit_type  \\\n",
       "0  God of War won in the following categories of ...   1653         public   \n",
       "1  In this game we see Jormungandr who, in Norse ...    167         public   \n",
       "2  I finally beat my first Valkyrie, I ascended t...    142         public   \n",
       "3  What do you think is the best boss from each g...     31         public   \n",
       "4  How many women in here that play GOW? Been pla...    277         public   \n",
       "\n",
       "  link_flair_text  target                              title_clean  \\\n",
       "0             NaN       1                 game the year megathread   \n",
       "1             NaN       1  possible cameo in the next game spoiler   \n",
       "2             NaN       1                                 valkyrie   \n",
       "3        Spoilers       1                  best bos from each game   \n",
       "4             NaN       1                             woman kratos   \n",
       "\n",
       "                                post_paragraph_clean  \n",
       "0  won in the following category game award game ...  \n",
       "1  in this game we see jormungandr who norse myth...  \n",
       "2  i finally beat my first valkyrie ascended the ...  \n",
       "3  what do you think is the best bos from each ga...  \n",
       "4  how many woman in here that play gow been play...  "
      ]
     },
     "execution_count": 281,
     "metadata": {},
     "output_type": "execute_result"
    }
   ],
   "source": [
    "df.head()"
   ]
  },
  {
   "cell_type": "code",
   "execution_count": 282,
   "metadata": {},
   "outputs": [],
   "source": [
    "vect = CountVectorizer()"
   ]
  },
  {
   "cell_type": "code",
   "execution_count": 283,
   "metadata": {},
   "outputs": [],
   "source": [
    "df['title_clean'] = df['title_clean'].replace(np.nan, \"\")"
   ]
  },
  {
   "cell_type": "code",
   "execution_count": 284,
   "metadata": {},
   "outputs": [
    {
     "data": {
      "text/plain": [
       "0"
      ]
     },
     "execution_count": 284,
     "metadata": {},
     "output_type": "execute_result"
    }
   ],
   "source": [
    "df['title_clean'].isnull().sum()"
   ]
  },
  {
   "cell_type": "code",
   "execution_count": 285,
   "metadata": {},
   "outputs": [],
   "source": [
    "df['post_paragraph_clean'] = df['post_paragraph_clean'].replace(np.nan, \"\")"
   ]
  },
  {
   "cell_type": "code",
   "execution_count": 286,
   "metadata": {},
   "outputs": [
    {
     "data": {
      "text/plain": [
       "0"
      ]
     },
     "execution_count": 286,
     "metadata": {},
     "output_type": "execute_result"
    }
   ],
   "source": [
    "df['post_paragraph_clean'].isnull().sum()"
   ]
  },
  {
   "cell_type": "code",
   "execution_count": 287,
   "metadata": {},
   "outputs": [],
   "source": [
    "X_text = vect.fit_transform(df['title_clean'])"
   ]
  },
  {
   "cell_type": "code",
   "execution_count": 288,
   "metadata": {},
   "outputs": [],
   "source": [
    "X_text = X_text.toarray()"
   ]
  },
  {
   "cell_type": "code",
   "execution_count": 289,
   "metadata": {},
   "outputs": [],
   "source": [
    "temp_df = pd.DataFrame(X_text,\n",
    "        columns=vect.get_feature_names())"
   ]
  },
  {
   "cell_type": "code",
   "execution_count": 290,
   "metadata": {},
   "outputs": [],
   "source": [
    "#Add the original column name to the beginning of the new columns' names to differentiate from which column\n",
    "# the vectorized words came from (this may impact the strength of the model):\n",
    "for i in range(len(temp_df.columns)):\n",
    "    temp_df.rename(columns={temp_df.columns[i]: 'title' + '_' + temp_df.columns[i]}, inplace=True)"
   ]
  },
  {
   "cell_type": "code",
   "execution_count": 291,
   "metadata": {},
   "outputs": [],
   "source": [
    "#Combine the two DataFrames:\n",
    "df = pd.concat([df, temp_df], axis=1, join_axes=[df.index])\n",
    "    "
   ]
  },
  {
   "cell_type": "code",
   "execution_count": 294,
   "metadata": {},
   "outputs": [
    {
     "data": {
      "text/html": [
       "<div>\n",
       "<style scoped>\n",
       "    .dataframe tbody tr th:only-of-type {\n",
       "        vertical-align: middle;\n",
       "    }\n",
       "\n",
       "    .dataframe tbody tr th {\n",
       "        vertical-align: top;\n",
       "    }\n",
       "\n",
       "    .dataframe thead th {\n",
       "        text-align: right;\n",
       "    }\n",
       "</style>\n",
       "<table border=\"1\" class=\"dataframe\">\n",
       "  <thead>\n",
       "    <tr style=\"text-align: right;\">\n",
       "      <th></th>\n",
       "      <th>subreddit</th>\n",
       "      <th>name</th>\n",
       "      <th>title</th>\n",
       "      <th>post_paragraph</th>\n",
       "      <th>score</th>\n",
       "      <th>subreddit_type</th>\n",
       "      <th>link_flair_text</th>\n",
       "      <th>target</th>\n",
       "      <th>title_clean</th>\n",
       "      <th>post_paragraph_clean</th>\n",
       "      <th>...</th>\n",
       "      <th>title_zebes</th>\n",
       "      <th>title_zeld</th>\n",
       "      <th>title_zeldaless</th>\n",
       "      <th>title_zeldas</th>\n",
       "      <th>title_zeltik</th>\n",
       "      <th>title_zero</th>\n",
       "      <th>title_zeus</th>\n",
       "      <th>title_zombo</th>\n",
       "      <th>title_zonai</th>\n",
       "      <th>title_zora</th>\n",
       "    </tr>\n",
       "  </thead>\n",
       "  <tbody>\n",
       "    <tr>\n",
       "      <th>0</th>\n",
       "      <td>GodofWar</td>\n",
       "      <td>t3_a3wlrs</td>\n",
       "      <td>God of War = Game of the Year Megathread</td>\n",
       "      <td>God of War won in the following categories of ...</td>\n",
       "      <td>1653</td>\n",
       "      <td>public</td>\n",
       "      <td>NaN</td>\n",
       "      <td>1</td>\n",
       "      <td>game the year megathread</td>\n",
       "      <td>won in the following category game award game ...</td>\n",
       "      <td>...</td>\n",
       "      <td>0</td>\n",
       "      <td>0</td>\n",
       "      <td>0</td>\n",
       "      <td>0</td>\n",
       "      <td>0</td>\n",
       "      <td>0</td>\n",
       "      <td>0</td>\n",
       "      <td>0</td>\n",
       "      <td>0</td>\n",
       "      <td>0</td>\n",
       "    </tr>\n",
       "    <tr>\n",
       "      <th>1</th>\n",
       "      <td>GodofWar</td>\n",
       "      <td>t3_car8er</td>\n",
       "      <td>Possible cameo in the next games... (Spoilers)</td>\n",
       "      <td>In this game we see Jormungandr who, in Norse ...</td>\n",
       "      <td>167</td>\n",
       "      <td>public</td>\n",
       "      <td>NaN</td>\n",
       "      <td>1</td>\n",
       "      <td>possible cameo in the next game spoiler</td>\n",
       "      <td>in this game we see jormungandr who norse myth...</td>\n",
       "      <td>...</td>\n",
       "      <td>0</td>\n",
       "      <td>0</td>\n",
       "      <td>0</td>\n",
       "      <td>0</td>\n",
       "      <td>0</td>\n",
       "      <td>0</td>\n",
       "      <td>0</td>\n",
       "      <td>0</td>\n",
       "      <td>0</td>\n",
       "      <td>0</td>\n",
       "    </tr>\n",
       "  </tbody>\n",
       "</table>\n",
       "<p>2 rows × 2622 columns</p>\n",
       "</div>"
      ],
      "text/plain": [
       "  subreddit       name                                           title  \\\n",
       "0  GodofWar  t3_a3wlrs        God of War = Game of the Year Megathread   \n",
       "1  GodofWar  t3_car8er  Possible cameo in the next games... (Spoilers)   \n",
       "\n",
       "                                      post_paragraph  score subreddit_type  \\\n",
       "0  God of War won in the following categories of ...   1653         public   \n",
       "1  In this game we see Jormungandr who, in Norse ...    167         public   \n",
       "\n",
       "  link_flair_text  target                              title_clean  \\\n",
       "0             NaN       1                 game the year megathread   \n",
       "1             NaN       1  possible cameo in the next game spoiler   \n",
       "\n",
       "                                post_paragraph_clean  ...  title_zebes  \\\n",
       "0  won in the following category game award game ...  ...            0   \n",
       "1  in this game we see jormungandr who norse myth...  ...            0   \n",
       "\n",
       "   title_zeld  title_zeldaless  title_zeldas  title_zeltik  title_zero  \\\n",
       "0           0                0             0             0           0   \n",
       "1           0                0             0             0           0   \n",
       "\n",
       "   title_zeus  title_zombo  title_zonai  title_zora  \n",
       "0           0            0            0           0  \n",
       "1           0            0            0           0  \n",
       "\n",
       "[2 rows x 2622 columns]"
      ]
     },
     "execution_count": 294,
     "metadata": {},
     "output_type": "execute_result"
    }
   ],
   "source": [
    "df.head(n=2)"
   ]
  },
  {
   "cell_type": "code",
   "execution_count": 296,
   "metadata": {},
   "outputs": [
    {
     "data": {
      "text/plain": [
       "41"
      ]
     },
     "execution_count": 296,
     "metadata": {},
     "output_type": "execute_result"
    }
   ],
   "source": [
    "df['post_paragraph'].isnull().sum()"
   ]
  },
  {
   "cell_type": "code",
   "execution_count": 298,
   "metadata": {},
   "outputs": [],
   "source": [
    "df['post_paragraph'] = df['post_paragraph'].replace(np.nan, \"\")"
   ]
  },
  {
   "cell_type": "code",
   "execution_count": 299,
   "metadata": {},
   "outputs": [],
   "source": [
    "#Do the same for post body\n",
    "X_text = vect.fit_transform(df['post_paragraph_clean'])\n",
    "X_text = X_text.toarray()\n",
    "temp_df = pd.DataFrame(X_text,\n",
    "        columns=vect.get_feature_names())\n",
    "for i in range(len(temp_df.columns)):\n",
    "    temp_df.rename(columns={temp_df.columns[i]: 'post_paragraph_clean' + '_' + temp_df.columns[i]}, inplace=True)"
   ]
  },
  {
   "cell_type": "code",
   "execution_count": 300,
   "metadata": {},
   "outputs": [],
   "source": [
    "df = pd.concat([df, temp_df], axis=1, join_axes=[df.index])"
   ]
  },
  {
   "cell_type": "code",
   "execution_count": 301,
   "metadata": {},
   "outputs": [
    {
     "data": {
      "text/plain": [
       "Index(['subreddit', 'name', 'title', 'post_paragraph', 'score',\n",
       "       'subreddit_type', 'link_flair_text', 'target', 'title_clean',\n",
       "       'post_paragraph_clean',\n",
       "       ...\n",
       "       'post_paragraph_clean_zoras', 'post_paragraph_clean_zou',\n",
       "       'post_paragraph_clean_zrrpt', 'post_paragraph_clean_zrrt',\n",
       "       'post_paragraph_clean_ztranslation', 'post_paragraph_clean_zubora',\n",
       "       'post_paragraph_clean_zues', 'post_paragraph_clean_zuna',\n",
       "       'post_paragraph_clean_zyaxif', 'post_paragraph_clean_zzbpcws'],\n",
       "      dtype='object', length=15482)"
      ]
     },
     "execution_count": 301,
     "metadata": {},
     "output_type": "execute_result"
    }
   ],
   "source": [
    "df.columns"
   ]
  },
  {
   "cell_type": "code",
   "execution_count": 302,
   "metadata": {},
   "outputs": [
    {
     "data": {
      "text/plain": [
       "15482"
      ]
     },
     "execution_count": 302,
     "metadata": {},
     "output_type": "execute_result"
    }
   ],
   "source": [
    "len(df.columns)"
   ]
  },
  {
   "cell_type": "code",
   "execution_count": 303,
   "metadata": {},
   "outputs": [],
   "source": [
    "df.to_csv('master_df_cleaned_vectorized.csv', index=False, sep=\",\")"
   ]
  },
  {
   "cell_type": "code",
   "execution_count": 230,
   "metadata": {},
   "outputs": [],
   "source": [
    "#tfidf_vect = TfidfVectorizer()"
   ]
  },
  {
   "cell_type": "code",
   "execution_count": 231,
   "metadata": {},
   "outputs": [],
   "source": [
    "#Do the same thing as for countvectorize but for tf-idf\n",
    "#X_text = tfidf_vect.fit_transform(df['title'])\n",
    "#X_text = X_text.toarray()\n",
    "    \n",
    "#Create a temporary DataFrame with each word/word-pair/word-group as the columns:\n",
    "#temp_df = pd.DataFrame(X_text,\n",
    "#    columns=tfidf_vect.get_feature_names())\n",
    "#for i in range(len(temp_df.columns)):\n",
    "    #print(i)\n",
    "#    temp_df.rename(columns={temp_df.columns[i]: 'title' + '_idf_' + temp_df.columns[i]}, inplace=True)"
   ]
  },
  {
   "cell_type": "code",
   "execution_count": 232,
   "metadata": {},
   "outputs": [],
   "source": [
    "#df = pd.concat([df, temp_df], axis=1, join_axes=[df.index])"
   ]
  },
  {
   "cell_type": "code",
   "execution_count": 590,
   "metadata": {},
   "outputs": [
    {
     "name": "stderr",
     "output_type": "stream",
     "text": [
      "/Users/eliregen/anaconda3/envs/py36/lib/python3.6/site-packages/IPython/core/interactiveshell.py:3049: DtypeWarning: Columns (6) have mixed types. Specify dtype option on import or set low_memory=False.\n",
      "  interactivity=interactivity, compiler=compiler, result=result)\n"
     ]
    }
   ],
   "source": [
    "df = pd.read_csv('./data/master_df_cleaned_vectorized.csv')"
   ]
  },
  {
   "cell_type": "code",
   "execution_count": 591,
   "metadata": {},
   "outputs": [],
   "source": [
    "features = list(df.columns)"
   ]
  },
  {
   "cell_type": "code",
   "execution_count": 592,
   "metadata": {},
   "outputs": [
    {
     "data": {
      "text/plain": [
       "['subreddit',\n",
       " 'name',\n",
       " 'title',\n",
       " 'post_paragraph',\n",
       " 'score',\n",
       " 'subreddit_type',\n",
       " 'link_flair_text',\n",
       " 'target',\n",
       " 'title_clean',\n",
       " 'post_paragraph_clean']"
      ]
     },
     "execution_count": 592,
     "metadata": {},
     "output_type": "execute_result"
    }
   ],
   "source": [
    "features[:10]"
   ]
  },
  {
   "cell_type": "code",
   "execution_count": 593,
   "metadata": {},
   "outputs": [],
   "source": [
    "del_list = ['subreddit', 'target', 'title', 'title_clean', 'post_paragraph', 'post_paragraph_clean', \n",
    "            'name', 'score', 'subreddit_type', 'link_flair_text']"
   ]
  },
  {
   "cell_type": "code",
   "execution_count": 594,
   "metadata": {},
   "outputs": [],
   "source": [
    "features = [i for i in features if i not in del_list]"
   ]
  },
  {
   "cell_type": "code",
   "execution_count": 595,
   "metadata": {},
   "outputs": [
    {
     "data": {
      "text/plain": [
       "['title_abandoned',\n",
       " 'title_ability',\n",
       " 'title_able',\n",
       " 'title_about',\n",
       " 'title_above',\n",
       " 'title_abrams',\n",
       " 'title_absence',\n",
       " 'title_absolutely',\n",
       " 'title_absurd',\n",
       " 'title_accidentally']"
      ]
     },
     "execution_count": 595,
     "metadata": {},
     "output_type": "execute_result"
    }
   ],
   "source": [
    "features[:10]"
   ]
  },
  {
   "cell_type": "code",
   "execution_count": 596,
   "metadata": {},
   "outputs": [],
   "source": [
    "X = df[features]\n",
    "y = df['target']"
   ]
  },
  {
   "cell_type": "code",
   "execution_count": 788,
   "metadata": {},
   "outputs": [
    {
     "name": "stdout",
     "output_type": "stream",
     "text": [
      "0.7623554153522608\n"
     ]
    }
   ],
   "source": [
    "y.value_counts()\n",
    "print(725 / 951)"
   ]
  },
  {
   "cell_type": "code",
   "execution_count": 597,
   "metadata": {},
   "outputs": [],
   "source": [
    "X_train, X_test, y_train, y_test = train_test_split(X, y, random_state=42, stratify=y)"
   ]
  },
  {
   "cell_type": "markdown",
   "metadata": {},
   "source": [
    "#### Confusion matrix plotter (https://scikit-learn.org/stable/auto_examples/model_selection/plot_confusion_matrix.html)"
   ]
  },
  {
   "cell_type": "code",
   "execution_count": 915,
   "metadata": {},
   "outputs": [],
   "source": [
    "def plot_confusion_matrix(y_test, y_pred, classes,\n",
    "                          normalize=False,\n",
    "                          title=None,\n",
    "                          cmap=plt.cm.Blues):\n",
    "    \"\"\"\n",
    "    This function prints and plots the confusion matrix.\n",
    "    Normalization can be applied by setting `normalize=True`.\n",
    "    \"\"\"\n",
    "    if not title:\n",
    "        if normalize:\n",
    "            title = 'Normalized confusion matrix'\n",
    "        else:\n",
    "            title = 'Confusion matrix, without normalization'\n",
    "\n",
    "    # Compute confusion matrix\n",
    "    cm = confusion_matrix(y_test, y_pred)\n",
    "    # Only use the labels that appear in the data\n",
    "    #classes = classes[unique_labels(y_test, y_pred)]\n",
    "    if normalize:\n",
    "        cm = cm.astype('float') / cm.sum(axis=1)[:, np.newaxis]\n",
    "        print(\"Normalized confusion matrix\")\n",
    "    else:\n",
    "        print('Confusion matrix, without normalization')\n",
    "\n",
    "    print(cm)\n",
    "\n",
    "    fig, ax = plt.subplots()\n",
    "    im = ax.imshow(cm, interpolation='nearest', cmap=cmap)\n",
    "    ax.figure.colorbar(im, ax=ax)\n",
    "    # We want to show all ticks...\n",
    "    ax.set(xticks=np.arange(cm.shape[1]),\n",
    "           yticks=np.arange(cm.shape[0]),\n",
    "           # ... and label them with the respective list entries\n",
    "           xticklabels=classes, yticklabels=classes,\n",
    "           title=title,\n",
    "           ylabel='True label',\n",
    "           xlabel='Predicted label')\n",
    "\n",
    "    # Rotate the tick labels and set their alignment.\n",
    "    plt.setp(ax.get_xticklabels(), rotation=45, ha=\"right\",\n",
    "             rotation_mode=\"anchor\")\n",
    "\n",
    "    # Loop over data dimensions and create text annotations.\n",
    "    fmt = '.2f' if normalize else 'd'\n",
    "    thresh = cm.max() / 2.\n",
    "    for i in range(cm.shape[0]):\n",
    "        for j in range(cm.shape[1]):\n",
    "            ax.text(j, i, format(cm[i, j], fmt),\n",
    "                    ha=\"center\", va=\"center\",\n",
    "                    color=\"white\" if cm[i, j] > thresh else \"black\")\n",
    "    fig.tight_layout()\n",
    "    return ax"
   ]
  },
  {
   "cell_type": "markdown",
   "metadata": {},
   "source": [
    "## Modeling"
   ]
  },
  {
   "cell_type": "markdown",
   "metadata": {},
   "source": [
    "#### Logistic Regression"
   ]
  },
  {
   "cell_type": "code",
   "execution_count": 598,
   "metadata": {},
   "outputs": [],
   "source": [
    "logreg = LogisticRegression()"
   ]
  },
  {
   "cell_type": "code",
   "execution_count": 599,
   "metadata": {},
   "outputs": [
    {
     "name": "stderr",
     "output_type": "stream",
     "text": [
      "/Users/eliregen/anaconda3/envs/py36/lib/python3.6/site-packages/sklearn/linear_model/logistic.py:432: FutureWarning: Default solver will be changed to 'lbfgs' in 0.22. Specify a solver to silence this warning.\n",
      "  FutureWarning)\n"
     ]
    },
    {
     "data": {
      "text/plain": [
       "LogisticRegression(C=1.0, class_weight=None, dual=False, fit_intercept=True,\n",
       "                   intercept_scaling=1, l1_ratio=None, max_iter=100,\n",
       "                   multi_class='warn', n_jobs=None, penalty='l2',\n",
       "                   random_state=None, solver='warn', tol=0.0001, verbose=0,\n",
       "                   warm_start=False)"
      ]
     },
     "execution_count": 599,
     "metadata": {},
     "output_type": "execute_result"
    }
   ],
   "source": [
    "logreg.fit(X_train, y_train)"
   ]
  },
  {
   "cell_type": "code",
   "execution_count": 600,
   "metadata": {},
   "outputs": [
    {
     "name": "stderr",
     "output_type": "stream",
     "text": [
      "/Users/eliregen/anaconda3/envs/py36/lib/python3.6/site-packages/sklearn/linear_model/logistic.py:432: FutureWarning: Default solver will be changed to 'lbfgs' in 0.22. Specify a solver to silence this warning.\n",
      "  FutureWarning)\n",
      "/Users/eliregen/anaconda3/envs/py36/lib/python3.6/site-packages/sklearn/linear_model/logistic.py:432: FutureWarning: Default solver will be changed to 'lbfgs' in 0.22. Specify a solver to silence this warning.\n",
      "  FutureWarning)\n",
      "/Users/eliregen/anaconda3/envs/py36/lib/python3.6/site-packages/sklearn/linear_model/logistic.py:432: FutureWarning: Default solver will be changed to 'lbfgs' in 0.22. Specify a solver to silence this warning.\n",
      "  FutureWarning)\n",
      "/Users/eliregen/anaconda3/envs/py36/lib/python3.6/site-packages/sklearn/linear_model/logistic.py:432: FutureWarning: Default solver will be changed to 'lbfgs' in 0.22. Specify a solver to silence this warning.\n",
      "  FutureWarning)\n",
      "/Users/eliregen/anaconda3/envs/py36/lib/python3.6/site-packages/sklearn/linear_model/logistic.py:432: FutureWarning: Default solver will be changed to 'lbfgs' in 0.22. Specify a solver to silence this warning.\n",
      "  FutureWarning)\n"
     ]
    },
    {
     "data": {
      "text/plain": [
       "array([0.9484127 , 0.93253968, 0.93253968, 0.92031873, 0.956     ])"
      ]
     },
     "execution_count": 600,
     "metadata": {},
     "output_type": "execute_result"
    }
   ],
   "source": [
    "cross_val_score(logreg, X_train, y_train, cv=5)"
   ]
  },
  {
   "cell_type": "code",
   "execution_count": 601,
   "metadata": {},
   "outputs": [
    {
     "data": {
      "text/plain": [
       "1.0"
      ]
     },
     "execution_count": 601,
     "metadata": {},
     "output_type": "execute_result"
    }
   ],
   "source": [
    "logreg.score(X_train, y_train)"
   ]
  },
  {
   "cell_type": "code",
   "execution_count": 602,
   "metadata": {},
   "outputs": [
    {
     "data": {
      "text/plain": [
       "0.9307875894988067"
      ]
     },
     "execution_count": 602,
     "metadata": {},
     "output_type": "execute_result"
    }
   ],
   "source": [
    "logreg.score(X_test, y_test)"
   ]
  },
  {
   "cell_type": "code",
   "execution_count": 785,
   "metadata": {},
   "outputs": [
    {
     "name": "stdout",
     "output_type": "stream",
     "text": [
      "[[3.66213825e-02 3.19088240e-01 1.20347061e-01 ... 3.69000497e-06\n",
      "  2.60333099e-03 3.98584424e-05]]\n"
     ]
    }
   ],
   "source": [
    "weights = logreg.coef_\n",
    "abs_weights = np.abs(weights)\n",
    "\n",
    "print(abs_weights)"
   ]
  },
  {
   "cell_type": "code",
   "execution_count": 615,
   "metadata": {},
   "outputs": [],
   "source": [
    "#get coefficients associated with each word\n",
    "coefficients = pd.concat([pd.DataFrame(X.columns),pd.DataFrame(np.transpose(logreg.coef_))], axis = 1)"
   ]
  },
  {
   "cell_type": "code",
   "execution_count": 617,
   "metadata": {},
   "outputs": [],
   "source": [
    "coefficients.columns = ['word', 'coefficient']"
   ]
  },
  {
   "cell_type": "code",
   "execution_count": 627,
   "metadata": {},
   "outputs": [],
   "source": [
    "coefficients['coefficient'] = coefficients['coefficient'].abs()\n"
   ]
  },
  {
   "cell_type": "code",
   "execution_count": 796,
   "metadata": {},
   "outputs": [
    {
     "data": {
      "text/plain": [
       "<pandas.core.indexing._iLocIndexer at 0x1a4a718638>"
      ]
     },
     "execution_count": 796,
     "metadata": {},
     "output_type": "execute_result"
    }
   ],
   "source": [
    "#coefficients.sort_values(by = 'coefficient', ascending = False)\n",
    "#largest values from post_paragraph_clean_kratos, title_link, titile_botw, post_paragraph_clean_botw,\n",
    "#title_kratos, post_paragraph_clean_oot\n",
    "coefficients.iloc"
   ]
  },
  {
   "cell_type": "code",
   "execution_count": 822,
   "metadata": {},
   "outputs": [],
   "source": [
    "#let's drop these four top-valued features to see how it affects the model\n",
    "#Upon dropping words associated with top 4 coeffecients training score did not change but test score dropped "
   ]
  },
  {
   "cell_type": "code",
   "execution_count": 784,
   "metadata": {},
   "outputs": [],
   "source": [
    "#X_trim = X.drop(columns = ['post_paragraph_clean_kratos', 'title_link', 'title_botw', 'post_paragraph_clean_botw'])"
   ]
  },
  {
   "cell_type": "code",
   "execution_count": 699,
   "metadata": {},
   "outputs": [],
   "source": [
    "my_params = {\n",
    "    'solver' : ['warn'],\n",
    "    'penalty': ['l2'],\n",
    "    'C': [1.1, 1.2, 1.3, 1.31, 1.32]\n",
    "}"
   ]
  },
  {
   "cell_type": "code",
   "execution_count": 700,
   "metadata": {},
   "outputs": [],
   "source": [
    "log_grid = GridSearchCV(logreg, param_grid=my_params, cv=5)"
   ]
  },
  {
   "cell_type": "code",
   "execution_count": 701,
   "metadata": {},
   "outputs": [
    {
     "name": "stderr",
     "output_type": "stream",
     "text": [
      "/Users/eliregen/anaconda3/envs/py36/lib/python3.6/site-packages/sklearn/linear_model/logistic.py:432: FutureWarning: Default solver will be changed to 'lbfgs' in 0.22. Specify a solver to silence this warning.\n",
      "  FutureWarning)\n",
      "/Users/eliregen/anaconda3/envs/py36/lib/python3.6/site-packages/sklearn/linear_model/logistic.py:432: FutureWarning: Default solver will be changed to 'lbfgs' in 0.22. Specify a solver to silence this warning.\n",
      "  FutureWarning)\n",
      "/Users/eliregen/anaconda3/envs/py36/lib/python3.6/site-packages/sklearn/linear_model/logistic.py:432: FutureWarning: Default solver will be changed to 'lbfgs' in 0.22. Specify a solver to silence this warning.\n",
      "  FutureWarning)\n",
      "/Users/eliregen/anaconda3/envs/py36/lib/python3.6/site-packages/sklearn/linear_model/logistic.py:432: FutureWarning: Default solver will be changed to 'lbfgs' in 0.22. Specify a solver to silence this warning.\n",
      "  FutureWarning)\n",
      "/Users/eliregen/anaconda3/envs/py36/lib/python3.6/site-packages/sklearn/linear_model/logistic.py:432: FutureWarning: Default solver will be changed to 'lbfgs' in 0.22. Specify a solver to silence this warning.\n",
      "  FutureWarning)\n",
      "/Users/eliregen/anaconda3/envs/py36/lib/python3.6/site-packages/sklearn/linear_model/logistic.py:432: FutureWarning: Default solver will be changed to 'lbfgs' in 0.22. Specify a solver to silence this warning.\n",
      "  FutureWarning)\n",
      "/Users/eliregen/anaconda3/envs/py36/lib/python3.6/site-packages/sklearn/linear_model/logistic.py:432: FutureWarning: Default solver will be changed to 'lbfgs' in 0.22. Specify a solver to silence this warning.\n",
      "  FutureWarning)\n",
      "/Users/eliregen/anaconda3/envs/py36/lib/python3.6/site-packages/sklearn/linear_model/logistic.py:432: FutureWarning: Default solver will be changed to 'lbfgs' in 0.22. Specify a solver to silence this warning.\n",
      "  FutureWarning)\n",
      "/Users/eliregen/anaconda3/envs/py36/lib/python3.6/site-packages/sklearn/linear_model/logistic.py:432: FutureWarning: Default solver will be changed to 'lbfgs' in 0.22. Specify a solver to silence this warning.\n",
      "  FutureWarning)\n",
      "/Users/eliregen/anaconda3/envs/py36/lib/python3.6/site-packages/sklearn/linear_model/logistic.py:432: FutureWarning: Default solver will be changed to 'lbfgs' in 0.22. Specify a solver to silence this warning.\n",
      "  FutureWarning)\n",
      "/Users/eliregen/anaconda3/envs/py36/lib/python3.6/site-packages/sklearn/linear_model/logistic.py:432: FutureWarning: Default solver will be changed to 'lbfgs' in 0.22. Specify a solver to silence this warning.\n",
      "  FutureWarning)\n",
      "/Users/eliregen/anaconda3/envs/py36/lib/python3.6/site-packages/sklearn/linear_model/logistic.py:432: FutureWarning: Default solver will be changed to 'lbfgs' in 0.22. Specify a solver to silence this warning.\n",
      "  FutureWarning)\n",
      "/Users/eliregen/anaconda3/envs/py36/lib/python3.6/site-packages/sklearn/linear_model/logistic.py:432: FutureWarning: Default solver will be changed to 'lbfgs' in 0.22. Specify a solver to silence this warning.\n",
      "  FutureWarning)\n",
      "/Users/eliregen/anaconda3/envs/py36/lib/python3.6/site-packages/sklearn/linear_model/logistic.py:432: FutureWarning: Default solver will be changed to 'lbfgs' in 0.22. Specify a solver to silence this warning.\n",
      "  FutureWarning)\n",
      "/Users/eliregen/anaconda3/envs/py36/lib/python3.6/site-packages/sklearn/linear_model/logistic.py:432: FutureWarning: Default solver will be changed to 'lbfgs' in 0.22. Specify a solver to silence this warning.\n",
      "  FutureWarning)\n",
      "/Users/eliregen/anaconda3/envs/py36/lib/python3.6/site-packages/sklearn/linear_model/logistic.py:432: FutureWarning: Default solver will be changed to 'lbfgs' in 0.22. Specify a solver to silence this warning.\n",
      "  FutureWarning)\n",
      "/Users/eliregen/anaconda3/envs/py36/lib/python3.6/site-packages/sklearn/linear_model/logistic.py:432: FutureWarning: Default solver will be changed to 'lbfgs' in 0.22. Specify a solver to silence this warning.\n",
      "  FutureWarning)\n",
      "/Users/eliregen/anaconda3/envs/py36/lib/python3.6/site-packages/sklearn/linear_model/logistic.py:432: FutureWarning: Default solver will be changed to 'lbfgs' in 0.22. Specify a solver to silence this warning.\n",
      "  FutureWarning)\n",
      "/Users/eliregen/anaconda3/envs/py36/lib/python3.6/site-packages/sklearn/linear_model/logistic.py:432: FutureWarning: Default solver will be changed to 'lbfgs' in 0.22. Specify a solver to silence this warning.\n",
      "  FutureWarning)\n",
      "/Users/eliregen/anaconda3/envs/py36/lib/python3.6/site-packages/sklearn/linear_model/logistic.py:432: FutureWarning: Default solver will be changed to 'lbfgs' in 0.22. Specify a solver to silence this warning.\n",
      "  FutureWarning)\n",
      "/Users/eliregen/anaconda3/envs/py36/lib/python3.6/site-packages/sklearn/linear_model/logistic.py:432: FutureWarning: Default solver will be changed to 'lbfgs' in 0.22. Specify a solver to silence this warning.\n",
      "  FutureWarning)\n",
      "/Users/eliregen/anaconda3/envs/py36/lib/python3.6/site-packages/sklearn/linear_model/logistic.py:432: FutureWarning: Default solver will be changed to 'lbfgs' in 0.22. Specify a solver to silence this warning.\n",
      "  FutureWarning)\n",
      "/Users/eliregen/anaconda3/envs/py36/lib/python3.6/site-packages/sklearn/linear_model/logistic.py:432: FutureWarning: Default solver will be changed to 'lbfgs' in 0.22. Specify a solver to silence this warning.\n",
      "  FutureWarning)\n",
      "/Users/eliregen/anaconda3/envs/py36/lib/python3.6/site-packages/sklearn/linear_model/logistic.py:432: FutureWarning: Default solver will be changed to 'lbfgs' in 0.22. Specify a solver to silence this warning.\n",
      "  FutureWarning)\n",
      "/Users/eliregen/anaconda3/envs/py36/lib/python3.6/site-packages/sklearn/linear_model/logistic.py:432: FutureWarning: Default solver will be changed to 'lbfgs' in 0.22. Specify a solver to silence this warning.\n",
      "  FutureWarning)\n",
      "/Users/eliregen/anaconda3/envs/py36/lib/python3.6/site-packages/sklearn/linear_model/logistic.py:432: FutureWarning: Default solver will be changed to 'lbfgs' in 0.22. Specify a solver to silence this warning.\n",
      "  FutureWarning)\n"
     ]
    },
    {
     "data": {
      "text/plain": [
       "GridSearchCV(cv=5, error_score='raise-deprecating',\n",
       "             estimator=LogisticRegression(C=1.0, class_weight=None, dual=False,\n",
       "                                          fit_intercept=True,\n",
       "                                          intercept_scaling=1, l1_ratio=None,\n",
       "                                          max_iter=100, multi_class='warn',\n",
       "                                          n_jobs=None, penalty='l2',\n",
       "                                          random_state=None, solver='warn',\n",
       "                                          tol=0.0001, verbose=0,\n",
       "                                          warm_start=False),\n",
       "             iid='warn', n_jobs=None,\n",
       "             param_grid={'C': [1.1, 1.2, 1.3, 1.31, 1.32], 'penalty': ['l2'],\n",
       "                         'solver': ['warn']},\n",
       "             pre_dispatch='2*n_jobs', refit=True, return_train_score=False,\n",
       "             scoring=None, verbose=0)"
      ]
     },
     "execution_count": 701,
     "metadata": {},
     "output_type": "execute_result"
    }
   ],
   "source": [
    "log_grid.fit(X_train, y_train)"
   ]
  },
  {
   "cell_type": "code",
   "execution_count": 705,
   "metadata": {},
   "outputs": [
    {
     "data": {
      "text/plain": [
       "1.0"
      ]
     },
     "execution_count": 705,
     "metadata": {},
     "output_type": "execute_result"
    }
   ],
   "source": [
    "log_grid.score(X_train, y_train)"
   ]
  },
  {
   "cell_type": "code",
   "execution_count": 892,
   "metadata": {},
   "outputs": [
    {
     "data": {
      "text/plain": [
       "{'C': 1.3, 'penalty': 'l2', 'solver': 'warn'}"
      ]
     },
     "execution_count": 892,
     "metadata": {},
     "output_type": "execute_result"
    }
   ],
   "source": [
    "log_grid.best_params_"
   ]
  },
  {
   "cell_type": "code",
   "execution_count": 706,
   "metadata": {},
   "outputs": [
    {
     "data": {
      "text/plain": [
       "0.9307875894988067"
      ]
     },
     "execution_count": 706,
     "metadata": {},
     "output_type": "execute_result"
    }
   ],
   "source": [
    "log_grid.score(X_test, y_test)"
   ]
  },
  {
   "cell_type": "code",
   "execution_count": 827,
   "metadata": {},
   "outputs": [],
   "source": [
    "y_pred_log = log_grid.predict(X_test)"
   ]
  },
  {
   "cell_type": "code",
   "execution_count": 843,
   "metadata": {},
   "outputs": [
    {
     "data": {
      "text/plain": [
       "array([[157,  24],\n",
       "       [  5, 233]])"
      ]
     },
     "execution_count": 843,
     "metadata": {},
     "output_type": "execute_result"
    }
   ],
   "source": [
    "confusion_matrix(y_test, y_pred_log)"
   ]
  },
  {
   "cell_type": "code",
   "execution_count": 707,
   "metadata": {},
   "outputs": [
    {
     "data": {
      "text/plain": [
       "{'C': 1.3, 'penalty': 'l2', 'solver': 'warn'}"
      ]
     },
     "execution_count": 707,
     "metadata": {},
     "output_type": "execute_result"
    }
   ],
   "source": [
    "log_grid.best_params_"
   ]
  },
  {
   "cell_type": "code",
   "execution_count": 909,
   "metadata": {},
   "outputs": [],
   "source": [
    "data = {'  ':['Model', 'Vectorization', 'CV Folds', 'Parameter_1', 'Parameter_2', 'Train Set Score', 'Test Set Score'],  \n",
    "        '  ':['Logistic Regression', 'CountVectorize', 'C = 1.3', 'Penalty = l2', '1.0', '0.93079']} \n",
    "logistic_data = pd.DataFrame(data) \n"
   ]
  },
  {
   "cell_type": "code",
   "execution_count": 910,
   "metadata": {},
   "outputs": [
    {
     "data": {
      "text/html": [
       "<div>\n",
       "<style scoped>\n",
       "    .dataframe tbody tr th:only-of-type {\n",
       "        vertical-align: middle;\n",
       "    }\n",
       "\n",
       "    .dataframe tbody tr th {\n",
       "        vertical-align: top;\n",
       "    }\n",
       "\n",
       "    .dataframe thead th {\n",
       "        text-align: right;\n",
       "    }\n",
       "</style>\n",
       "<table border=\"1\" class=\"dataframe\">\n",
       "  <thead>\n",
       "    <tr style=\"text-align: right;\">\n",
       "      <th></th>\n",
       "      <th></th>\n",
       "    </tr>\n",
       "  </thead>\n",
       "  <tbody>\n",
       "    <tr>\n",
       "      <th>0</th>\n",
       "      <td>Logistic Regression</td>\n",
       "    </tr>\n",
       "    <tr>\n",
       "      <th>1</th>\n",
       "      <td>CountVectorize</td>\n",
       "    </tr>\n",
       "    <tr>\n",
       "      <th>2</th>\n",
       "      <td>C = 1.3</td>\n",
       "    </tr>\n",
       "    <tr>\n",
       "      <th>3</th>\n",
       "      <td>Penalty = l2</td>\n",
       "    </tr>\n",
       "    <tr>\n",
       "      <th>4</th>\n",
       "      <td>1.0</td>\n",
       "    </tr>\n",
       "    <tr>\n",
       "      <th>5</th>\n",
       "      <td>0.93079</td>\n",
       "    </tr>\n",
       "  </tbody>\n",
       "</table>\n",
       "</div>"
      ],
      "text/plain": [
       "                      \n",
       "0  Logistic Regression\n",
       "1       CountVectorize\n",
       "2              C = 1.3\n",
       "3         Penalty = l2\n",
       "4                  1.0\n",
       "5              0.93079"
      ]
     },
     "execution_count": 910,
     "metadata": {},
     "output_type": "execute_result"
    }
   ],
   "source": [
    "logistic_data"
   ]
  },
  {
   "cell_type": "code",
   "execution_count": 923,
   "metadata": {},
   "outputs": [
    {
     "name": "stdout",
     "output_type": "stream",
     "text": [
      "Confusion matrix, without normalization\n",
      "[[157  24]\n",
      " [  5 233]]\n"
     ]
    },
    {
     "data": {
      "image/png": "[encoded data removed]",
      "text/plain": [
       "<Figure size 432x288 with 2 Axes>"
      ]
     },
     "metadata": {
      "needs_background": "light"
     },
     "output_type": "display_data"
    }
   ],
   "source": [
    "\n",
    "# Plot non-normalized confusion matrix\n",
    "conufslog = plot_confusion_matrix(y_test, y_pred_log, classes=['God of War', 'Legend of Zelda'],\n",
    "                      title='Confusion matrix for LogisticRegression')\n",
    "\n",
    "# Plot normalized confusion matrix\n",
    "#plot_confusion_matrix(y_test, y_pred, classes=class_names, normalize=True,\n",
    "#                      title='Normalized confusion matrix')\n",
    "\n",
    "plt.show()\n"
   ]
  },
  {
   "cell_type": "code",
   "execution_count": null,
   "metadata": {},
   "outputs": [],
   "source": []
  },
  {
   "cell_type": "markdown",
   "metadata": {},
   "source": [
    "#### Nearest Neighbors"
   ]
  },
  {
   "cell_type": "code",
   "execution_count": 668,
   "metadata": {},
   "outputs": [],
   "source": [
    "knn = KNeighborsClassifier()"
   ]
  },
  {
   "cell_type": "code",
   "execution_count": 669,
   "metadata": {},
   "outputs": [
    {
     "data": {
      "text/plain": [
       "KNeighborsClassifier(algorithm='auto', leaf_size=30, metric='minkowski',\n",
       "                     metric_params=None, n_jobs=None, n_neighbors=5, p=2,\n",
       "                     weights='uniform')"
      ]
     },
     "execution_count": 669,
     "metadata": {},
     "output_type": "execute_result"
    }
   ],
   "source": [
    "knn.fit(X_train, y_train)"
   ]
  },
  {
   "cell_type": "code",
   "execution_count": 670,
   "metadata": {},
   "outputs": [
    {
     "data": {
      "text/plain": [
       "array([0.58730159, 0.65873016, 0.63095238, 0.6374502 , 0.608     ])"
      ]
     },
     "execution_count": 670,
     "metadata": {},
     "output_type": "execute_result"
    }
   ],
   "source": [
    "cross_val_score(knn, X_train, y_train, cv = 5)"
   ]
  },
  {
   "cell_type": "code",
   "execution_count": 672,
   "metadata": {},
   "outputs": [
    {
     "data": {
      "text/plain": [
       "0.7629276054097056"
      ]
     },
     "execution_count": 672,
     "metadata": {},
     "output_type": "execute_result"
    }
   ],
   "source": [
    "knn.score(X_train, y_train)"
   ]
  },
  {
   "cell_type": "code",
   "execution_count": 671,
   "metadata": {},
   "outputs": [
    {
     "data": {
      "text/plain": [
       "0.6587112171837709"
      ]
     },
     "execution_count": 671,
     "metadata": {},
     "output_type": "execute_result"
    }
   ],
   "source": [
    "knn.score(X_test, y_test)"
   ]
  },
  {
   "cell_type": "code",
   "execution_count": 845,
   "metadata": {},
   "outputs": [],
   "source": [
    "y_pred_knn = knn.predict(X_test)"
   ]
  },
  {
   "cell_type": "code",
   "execution_count": 846,
   "metadata": {},
   "outputs": [
    {
     "data": {
      "text/plain": [
       "array([[ 67,  29],\n",
       "       [114, 209]])"
      ]
     },
     "execution_count": 846,
     "metadata": {},
     "output_type": "execute_result"
    }
   ],
   "source": [
    "confusion_matrix(y_pred_knn, y_test)"
   ]
  },
  {
   "cell_type": "code",
   "execution_count": 717,
   "metadata": {},
   "outputs": [
    {
     "data": {
      "text/plain": [
       "{'algorithm': 'auto',\n",
       " 'leaf_size': 30,\n",
       " 'metric': 'minkowski',\n",
       " 'metric_params': None,\n",
       " 'n_jobs': None,\n",
       " 'n_neighbors': 5,\n",
       " 'p': 2,\n",
       " 'weights': 'uniform'}"
      ]
     },
     "execution_count": 717,
     "metadata": {},
     "output_type": "execute_result"
    }
   ],
   "source": [
    "knn.get_params()"
   ]
  },
  {
   "cell_type": "code",
   "execution_count": 741,
   "metadata": {},
   "outputs": [],
   "source": [
    "my_params = {\n",
    "    'n_neighbors': [5, 7, 10],\n",
    "    'weights': ['uniform'],\n",
    "    'leaf_size': [10, 15, 25, 30]\n",
    "}"
   ]
  },
  {
   "cell_type": "code",
   "execution_count": 742,
   "metadata": {},
   "outputs": [],
   "source": [
    "grid_knn = GridSearchCV(knn, param_grid=my_params, cv=5)"
   ]
  },
  {
   "cell_type": "code",
   "execution_count": 743,
   "metadata": {},
   "outputs": [
    {
     "data": {
      "text/plain": [
       "GridSearchCV(cv=5, error_score='raise-deprecating',\n",
       "             estimator=KNeighborsClassifier(algorithm='auto', leaf_size=30,\n",
       "                                            metric='minkowski',\n",
       "                                            metric_params=None, n_jobs=None,\n",
       "                                            n_neighbors=5, p=2,\n",
       "                                            weights='uniform'),\n",
       "             iid='warn', n_jobs=None,\n",
       "             param_grid={'leaf_size': [10, 15, 25, 30],\n",
       "                         'n_neighbors': [5, 7, 10], 'weights': ['uniform']},\n",
       "             pre_dispatch='2*n_jobs', refit=True, return_train_score=False,\n",
       "             scoring=None, verbose=0)"
      ]
     },
     "execution_count": 743,
     "metadata": {},
     "output_type": "execute_result"
    }
   ],
   "source": [
    "grid_knn.fit(X_train, y_train)"
   ]
  },
  {
   "cell_type": "code",
   "execution_count": 744,
   "metadata": {},
   "outputs": [
    {
     "data": {
      "text/plain": [
       "0.7088305489260143"
      ]
     },
     "execution_count": 744,
     "metadata": {},
     "output_type": "execute_result"
    }
   ],
   "source": [
    "grid_knn.score(X_train, y_train)"
   ]
  },
  {
   "cell_type": "code",
   "execution_count": 745,
   "metadata": {},
   "outputs": [
    {
     "data": {
      "text/plain": [
       "0.6372315035799523"
      ]
     },
     "execution_count": 745,
     "metadata": {},
     "output_type": "execute_result"
    }
   ],
   "source": [
    "grid_knn.score(X_test, y_test)"
   ]
  },
  {
   "cell_type": "code",
   "execution_count": 746,
   "metadata": {},
   "outputs": [
    {
     "data": {
      "text/plain": [
       "{'leaf_size': 10, 'n_neighbors': 10, 'weights': 'uniform'}"
      ]
     },
     "execution_count": 746,
     "metadata": {},
     "output_type": "execute_result"
    }
   ],
   "source": [
    "grid_knn.best_params_ "
   ]
  },
  {
   "cell_type": "code",
   "execution_count": null,
   "metadata": {},
   "outputs": [],
   "source": []
  },
  {
   "cell_type": "code",
   "execution_count": 925,
   "metadata": {},
   "outputs": [
    {
     "name": "stdout",
     "output_type": "stream",
     "text": [
      "Confusion matrix, without normalization\n",
      "[[ 67 114]\n",
      " [ 29 209]]\n"
     ]
    },
    {
     "data": {
      "image/png": "[encoded data removed]",
      "text/plain": [
       "<Figure size 432x288 with 2 Axes>"
      ]
     },
     "metadata": {
      "needs_background": "light"
     },
     "output_type": "display_data"
    }
   ],
   "source": [
    "# Plot non-normalized confusion matrix\n",
    "conufsknn = plot_confusion_matrix(y_test, y_pred_knn, classes=['God of War', 'Legend of Zelda'],\n",
    "                      title='Confusion matrix for LogisticRegression')\n",
    "\n",
    "# Plot normalized confusion matrix\n",
    "#plot_confusion_matrix(y_test, y_pred, classes=class_names, normalize=True,\n",
    "#                      title='Normalized confusion matrix')\n",
    "\n",
    "plt.show()\n"
   ]
  },
  {
   "cell_type": "markdown",
   "metadata": {},
   "source": [
    "#### Random Forest Classifier"
   ]
  },
  {
   "cell_type": "code",
   "execution_count": 747,
   "metadata": {},
   "outputs": [],
   "source": [
    "rf = RandomForestClassifier()"
   ]
  },
  {
   "cell_type": "code",
   "execution_count": 853,
   "metadata": {},
   "outputs": [
    {
     "data": {
      "text/plain": [
       "RandomForestClassifier(bootstrap=True, class_weight=None, criterion='gini',\n",
       "                       max_depth=None, max_features='auto', max_leaf_nodes=None,\n",
       "                       min_impurity_decrease=0.0, min_impurity_split=None,\n",
       "                       min_samples_leaf=1, min_samples_split=2,\n",
       "                       min_weight_fraction_leaf=0.0, n_estimators=10,\n",
       "                       n_jobs=None, oob_score=False, random_state=None,\n",
       "                       verbose=0, warm_start=False)"
      ]
     },
     "execution_count": 853,
     "metadata": {},
     "output_type": "execute_result"
    }
   ],
   "source": [
    "rf.fit(X_train, y_train)"
   ]
  },
  {
   "cell_type": "code",
   "execution_count": 854,
   "metadata": {},
   "outputs": [
    {
     "data": {
      "text/plain": [
       "array([0.86111111, 0.8968254 , 0.88492063, 0.91633466, 0.92      ])"
      ]
     },
     "execution_count": 854,
     "metadata": {},
     "output_type": "execute_result"
    }
   ],
   "source": [
    "cross_val_score(rf, X_train, y_train, cv = 5)"
   ]
  },
  {
   "cell_type": "code",
   "execution_count": 855,
   "metadata": {},
   "outputs": [
    {
     "data": {
      "text/plain": [
       "0.9992044550517104"
      ]
     },
     "execution_count": 855,
     "metadata": {},
     "output_type": "execute_result"
    }
   ],
   "source": [
    "rf.score(X_train, y_train)"
   ]
  },
  {
   "cell_type": "code",
   "execution_count": 856,
   "metadata": {},
   "outputs": [
    {
     "data": {
      "text/plain": [
       "0.9021479713603818"
      ]
     },
     "execution_count": 856,
     "metadata": {},
     "output_type": "execute_result"
    }
   ],
   "source": [
    "rf.score(X_test, y_test)"
   ]
  },
  {
   "cell_type": "code",
   "execution_count": 857,
   "metadata": {},
   "outputs": [],
   "source": [
    "y_pred_rf = rf.predict(X_test)"
   ]
  },
  {
   "cell_type": "code",
   "execution_count": 858,
   "metadata": {},
   "outputs": [
    {
     "data": {
      "text/plain": [
       "array([[155,  26],\n",
       "       [ 15, 223]])"
      ]
     },
     "execution_count": 858,
     "metadata": {},
     "output_type": "execute_result"
    }
   ],
   "source": [
    "confusion_matrix(y_test, y_pred_rf)"
   ]
  },
  {
   "cell_type": "code",
   "execution_count": 926,
   "metadata": {},
   "outputs": [
    {
     "name": "stdout",
     "output_type": "stream",
     "text": [
      "Confusion matrix, without normalization\n",
      "[[155  26]\n",
      " [ 15 223]]\n"
     ]
    },
    {
     "data": {
      "image/png": "[encoded data removed]",
      "text/plain": [
       "<Figure size 432x288 with 2 Axes>"
      ]
     },
     "metadata": {
      "needs_background": "light"
     },
     "output_type": "display_data"
    }
   ],
   "source": [
    "# Plot non-normalized confusion matrix\n",
    "conufsknn = plot_confusion_matrix(y_test, y_pred_rf, classes=['God of War', 'Legend of Zelda'],\n",
    "                      title='Confusion matrix for LogisticRegression')\n",
    "\n",
    "# Plot normalized confusion matrix\n",
    "#plot_confusion_matrix(y_test, y_pred, classes=class_names, normalize=True,\n",
    "#                      title='Normalized confusion matrix')\n",
    "\n",
    "plt.show()\n"
   ]
  },
  {
   "cell_type": "code",
   "execution_count": 859,
   "metadata": {},
   "outputs": [
    {
     "name": "stdout",
     "output_type": "stream",
     "text": [
      "0.9172633253778838\n"
     ]
    },
    {
     "data": {
      "text/plain": [
       "{'min_samples_split': 2, 'n_estimators': 106}"
      ]
     },
     "execution_count": 859,
     "metadata": {},
     "output_type": "execute_result"
    }
   ],
   "source": [
    "rf = RandomForestClassifier()\n",
    "rf_params = {\n",
    "    'n_estimators': [100, 104, 105, 106],\n",
    "    'min_samples_split': [2, 3, 4],\n",
    "}\n",
    "gs_rf = GridSearchCV(rf, param_grid=rf_params, cv=5)\n",
    "gs_rf.fit(X_train, y_train)\n",
    "print(gs_rf.best_score_)\n",
    "gs_rf.best_params_"
   ]
  },
  {
   "cell_type": "code",
   "execution_count": 864,
   "metadata": {},
   "outputs": [
    {
     "data": {
      "text/plain": [
       "1.0"
      ]
     },
     "execution_count": 864,
     "metadata": {},
     "output_type": "execute_result"
    }
   ],
   "source": [
    "gs_rf.score(X_train, y_train)"
   ]
  },
  {
   "cell_type": "code",
   "execution_count": 865,
   "metadata": {},
   "outputs": [
    {
     "data": {
      "text/plain": [
       "0.9140811455847255"
      ]
     },
     "execution_count": 865,
     "metadata": {},
     "output_type": "execute_result"
    }
   ],
   "source": [
    "gs_rf.score(X_test, y_test)"
   ]
  },
  {
   "cell_type": "code",
   "execution_count": 869,
   "metadata": {},
   "outputs": [],
   "source": [
    "y_pred_gs = gs.predict(X_test)"
   ]
  },
  {
   "cell_type": "code",
   "execution_count": 871,
   "metadata": {},
   "outputs": [
    {
     "data": {
      "text/plain": [
       "array([[152,  29],\n",
       "       [  2, 236]])"
      ]
     },
     "execution_count": 871,
     "metadata": {},
     "output_type": "execute_result"
    }
   ],
   "source": [
    "confusion_matrix(y_test, y_pred_gs)"
   ]
  },
  {
   "cell_type": "code",
   "execution_count": 861,
   "metadata": {},
   "outputs": [],
   "source": [
    "rf_n = RandomForestClassifier(min_samples_split = 2, n_estimators = 106)"
   ]
  },
  {
   "cell_type": "code",
   "execution_count": 862,
   "metadata": {},
   "outputs": [
    {
     "data": {
      "text/plain": [
       "RandomForestClassifier(bootstrap=True, class_weight=None, criterion='gini',\n",
       "                       max_depth=None, max_features='auto', max_leaf_nodes=None,\n",
       "                       min_impurity_decrease=0.0, min_impurity_split=None,\n",
       "                       min_samples_leaf=1, min_samples_split=2,\n",
       "                       min_weight_fraction_leaf=0.0, n_estimators=106,\n",
       "                       n_jobs=None, oob_score=False, random_state=None,\n",
       "                       verbose=0, warm_start=False)"
      ]
     },
     "execution_count": 862,
     "metadata": {},
     "output_type": "execute_result"
    }
   ],
   "source": [
    "rf_n.fit(X_train, y_train)"
   ]
  },
  {
   "cell_type": "code",
   "execution_count": 863,
   "metadata": {},
   "outputs": [
    {
     "data": {
      "text/plain": [
       "array([0.91666667, 0.92857143, 0.90079365, 0.89641434, 0.932     ])"
      ]
     },
     "execution_count": 863,
     "metadata": {},
     "output_type": "execute_result"
    }
   ],
   "source": [
    "cross_val_score(rf_n, X_train, y_train, cv = 5)"
   ]
  },
  {
   "cell_type": "code",
   "execution_count": 872,
   "metadata": {},
   "outputs": [
    {
     "data": {
      "text/plain": [
       "RandomForestClassifier(bootstrap=True, class_weight=None, criterion='gini',\n",
       "                       max_depth=None, max_features='auto', max_leaf_nodes=None,\n",
       "                       min_impurity_decrease=0.0, min_impurity_split=None,\n",
       "                       min_samples_leaf=1, min_samples_split=2,\n",
       "                       min_weight_fraction_leaf=0.0, n_estimators=106,\n",
       "                       n_jobs=None, oob_score=False, random_state=None,\n",
       "                       verbose=0, warm_start=False)"
      ]
     },
     "execution_count": 872,
     "metadata": {},
     "output_type": "execute_result"
    }
   ],
   "source": [
    "rf_n.fit(X_train, y_train)"
   ]
  },
  {
   "cell_type": "code",
   "execution_count": 873,
   "metadata": {},
   "outputs": [
    {
     "data": {
      "text/plain": [
       "1.0"
      ]
     },
     "execution_count": 873,
     "metadata": {},
     "output_type": "execute_result"
    }
   ],
   "source": [
    "rf_n.score(X_train, y_train)"
   ]
  },
  {
   "cell_type": "code",
   "execution_count": 874,
   "metadata": {},
   "outputs": [
    {
     "data": {
      "text/plain": [
       "0.9307875894988067"
      ]
     },
     "execution_count": 874,
     "metadata": {},
     "output_type": "execute_result"
    }
   ],
   "source": [
    "rf_n.score(X_test, y_test)"
   ]
  },
  {
   "cell_type": "code",
   "execution_count": 875,
   "metadata": {},
   "outputs": [],
   "source": [
    "y_pred_rf_n = rf_n.predict(X_test)"
   ]
  },
  {
   "cell_type": "code",
   "execution_count": 876,
   "metadata": {},
   "outputs": [
    {
     "data": {
      "text/plain": [
       "array([[155,  26],\n",
       "       [  3, 235]])"
      ]
     },
     "execution_count": 876,
     "metadata": {},
     "output_type": "execute_result"
    }
   ],
   "source": [
    "confusion_matrix(y_test, y_pred_rf_n)"
   ]
  },
  {
   "cell_type": "markdown",
   "metadata": {},
   "source": [
    "#### Naive Bayes classifier"
   ]
  },
  {
   "cell_type": "code",
   "execution_count": 811,
   "metadata": {},
   "outputs": [],
   "source": [
    "from sklearn.naive_bayes import GaussianNB"
   ]
  },
  {
   "cell_type": "code",
   "execution_count": 812,
   "metadata": {},
   "outputs": [],
   "source": [
    "gnb = GaussianNB()"
   ]
  },
  {
   "cell_type": "code",
   "execution_count": 814,
   "metadata": {},
   "outputs": [
    {
     "data": {
      "text/plain": [
       "array([0.86507937, 0.88492063, 0.86111111, 0.90039841, 0.932     ])"
      ]
     },
     "execution_count": 814,
     "metadata": {},
     "output_type": "execute_result"
    }
   ],
   "source": [
    "cross_val_score(gnb, X_train, y_train, cv = 5)"
   ]
  },
  {
   "cell_type": "code",
   "execution_count": 816,
   "metadata": {},
   "outputs": [
    {
     "data": {
      "text/plain": [
       "GaussianNB(priors=None, var_smoothing=1e-09)"
      ]
     },
     "execution_count": 816,
     "metadata": {},
     "output_type": "execute_result"
    }
   ],
   "source": [
    "gnb.fit(X_train, y_train)"
   ]
  },
  {
   "cell_type": "code",
   "execution_count": 817,
   "metadata": {},
   "outputs": [
    {
     "data": {
      "text/plain": [
       "0.9976133651551312"
      ]
     },
     "execution_count": 817,
     "metadata": {},
     "output_type": "execute_result"
    }
   ],
   "source": [
    "gnb.score(X_train, y_train)"
   ]
  },
  {
   "cell_type": "code",
   "execution_count": 818,
   "metadata": {},
   "outputs": [
    {
     "data": {
      "text/plain": [
       "0.9116945107398569"
      ]
     },
     "execution_count": 818,
     "metadata": {},
     "output_type": "execute_result"
    }
   ],
   "source": [
    "gnb.score(X_test, y_test)"
   ]
  },
  {
   "cell_type": "code",
   "execution_count": null,
   "metadata": {},
   "outputs": [],
   "source": [
    "gnb"
   ]
  },
  {
   "cell_type": "code",
   "execution_count": 877,
   "metadata": {},
   "outputs": [],
   "source": [
    "y_pred_gnb = gnb.predict(X_test)"
   ]
  },
  {
   "cell_type": "code",
   "execution_count": 879,
   "metadata": {},
   "outputs": [
    {
     "data": {
      "text/plain": [
       "array([[174,  30],\n",
       "       [  7, 208]])"
      ]
     },
     "execution_count": 879,
     "metadata": {},
     "output_type": "execute_result"
    }
   ],
   "source": [
    "confusion_matrix(y_pred_gnb, y_test)"
   ]
  },
  {
   "cell_type": "code",
   "execution_count": 927,
   "metadata": {},
   "outputs": [
    {
     "name": "stdout",
     "output_type": "stream",
     "text": [
      "Confusion matrix, without normalization\n",
      "[[174   7]\n",
      " [ 30 208]]\n"
     ]
    },
    {
     "data": {
      "image/png": "[encoded data removed]",
      "text/plain": [
       "<Figure size 432x288 with 2 Axes>"
      ]
     },
     "metadata": {
      "needs_background": "light"
     },
     "output_type": "display_data"
    }
   ],
   "source": [
    "# Plot non-normalized confusion matrix\n",
    "conufsknn = plot_confusion_matrix(y_test, y_pred_gnb, classes=['God of War', 'Legend of Zelda'],\n",
    "                      title='Confusion matrix for LogisticRegression')\n",
    "\n",
    "# Plot normalized confusion matrix\n",
    "#plot_confusion_matrix(y_test, y_pred, classes=class_names, normalize=True,\n",
    "#                      title='Normalized confusion matrix')\n",
    "\n",
    "plt.show()\n"
   ]
  },
  {
   "cell_type": "markdown",
   "metadata": {},
   "source": [
    "#### TF-IDF feature engineering"
   ]
  },
  {
   "cell_type": "code",
   "execution_count": 546,
   "metadata": {},
   "outputs": [],
   "source": [
    "data = pd.read_csv(\"./data/master_df_cleaned.csv\")"
   ]
  },
  {
   "cell_type": "code",
   "execution_count": null,
   "metadata": {},
   "outputs": [],
   "source": []
  },
  {
   "cell_type": "code",
   "execution_count": 547,
   "metadata": {},
   "outputs": [
    {
     "data": {
      "text/html": [
       "<div>\n",
       "<style scoped>\n",
       "    .dataframe tbody tr th:only-of-type {\n",
       "        vertical-align: middle;\n",
       "    }\n",
       "\n",
       "    .dataframe tbody tr th {\n",
       "        vertical-align: top;\n",
       "    }\n",
       "\n",
       "    .dataframe thead th {\n",
       "        text-align: right;\n",
       "    }\n",
       "</style>\n",
       "<table border=\"1\" class=\"dataframe\">\n",
       "  <thead>\n",
       "    <tr style=\"text-align: right;\">\n",
       "      <th></th>\n",
       "      <th>subreddit</th>\n",
       "      <th>name</th>\n",
       "      <th>title</th>\n",
       "      <th>post_paragraph</th>\n",
       "      <th>score</th>\n",
       "      <th>subreddit_type</th>\n",
       "      <th>link_flair_text</th>\n",
       "      <th>target</th>\n",
       "      <th>title_clean</th>\n",
       "      <th>post_paragraph_clean</th>\n",
       "    </tr>\n",
       "  </thead>\n",
       "  <tbody>\n",
       "    <tr>\n",
       "      <th>0</th>\n",
       "      <td>GodofWar</td>\n",
       "      <td>t3_a3wlrs</td>\n",
       "      <td>God of War = Game of the Year Megathread</td>\n",
       "      <td>God of War won in the following categories of ...</td>\n",
       "      <td>1653</td>\n",
       "      <td>public</td>\n",
       "      <td>NaN</td>\n",
       "      <td>1</td>\n",
       "      <td>game the year megathread</td>\n",
       "      <td>won in the following category game award game ...</td>\n",
       "    </tr>\n",
       "    <tr>\n",
       "      <th>1</th>\n",
       "      <td>GodofWar</td>\n",
       "      <td>t3_car8er</td>\n",
       "      <td>Possible cameo in the next games... (Spoilers)</td>\n",
       "      <td>In this game we see Jormungandr who, in Norse ...</td>\n",
       "      <td>167</td>\n",
       "      <td>public</td>\n",
       "      <td>NaN</td>\n",
       "      <td>1</td>\n",
       "      <td>possible cameo in the next game spoiler</td>\n",
       "      <td>in this game we see jormungandr who norse myth...</td>\n",
       "    </tr>\n",
       "  </tbody>\n",
       "</table>\n",
       "</div>"
      ],
      "text/plain": [
       "  subreddit       name                                           title  \\\n",
       "0  GodofWar  t3_a3wlrs        God of War = Game of the Year Megathread   \n",
       "1  GodofWar  t3_car8er  Possible cameo in the next games... (Spoilers)   \n",
       "\n",
       "                                      post_paragraph  score subreddit_type  \\\n",
       "0  God of War won in the following categories of ...   1653         public   \n",
       "1  In this game we see Jormungandr who, in Norse ...    167         public   \n",
       "\n",
       "  link_flair_text  target                              title_clean  \\\n",
       "0             NaN       1                 game the year megathread   \n",
       "1             NaN       1  possible cameo in the next game spoiler   \n",
       "\n",
       "                                post_paragraph_clean  \n",
       "0  won in the following category game award game ...  \n",
       "1  in this game we see jormungandr who norse myth...  "
      ]
     },
     "execution_count": 547,
     "metadata": {},
     "output_type": "execute_result"
    }
   ],
   "source": [
    "data.head(n=2)"
   ]
  },
  {
   "cell_type": "code",
   "execution_count": 548,
   "metadata": {},
   "outputs": [],
   "source": [
    "data['post_paragraph'] = data['post_paragraph'].replace(np.nan, \"\")"
   ]
  },
  {
   "cell_type": "code",
   "execution_count": 549,
   "metadata": {},
   "outputs": [],
   "source": [
    "data['title_clean'] = data['title_clean'].replace(np.nan, \"\")"
   ]
  },
  {
   "cell_type": "code",
   "execution_count": 550,
   "metadata": {},
   "outputs": [],
   "source": [
    "data['post_paragraph_clean'] = data['post_paragraph_clean'].replace(np.nan, \"\")"
   ]
  },
  {
   "cell_type": "code",
   "execution_count": 551,
   "metadata": {},
   "outputs": [
    {
     "data": {
      "text/plain": [
       "subreddit                  0\n",
       "name                       0\n",
       "title                      0\n",
       "post_paragraph             0\n",
       "score                      0\n",
       "subreddit_type             0\n",
       "link_flair_text         1548\n",
       "target                     0\n",
       "title_clean                0\n",
       "post_paragraph_clean       0\n",
       "dtype: int64"
      ]
     },
     "execution_count": 551,
     "metadata": {},
     "output_type": "execute_result"
    }
   ],
   "source": [
    "data.isnull().sum()"
   ]
  },
  {
   "cell_type": "code",
   "execution_count": 552,
   "metadata": {},
   "outputs": [],
   "source": [
    "#Do the same thing as for countvectorize but for tfidf\n",
    "X_text = tfidf_vect.fit_transform(data['title_clean'])\n",
    "X_text = X_text.toarray()\n",
    "    \n",
    "#Create a temporary DataFrame with each word/word-pair/word-group as the columns:\n",
    "temp_data = pd.DataFrame(X_text,\n",
    "columns=tfidf_vect.get_feature_names())\n",
    "for i in range(len(temp_data.columns)):\n",
    "    #print(i)\n",
    "    temp_data.rename(columns={temp_data.columns[i]: 'title_clean' + '_idf_' + temp_data.columns[i]}, inplace=True)"
   ]
  },
  {
   "cell_type": "code",
   "execution_count": 553,
   "metadata": {},
   "outputs": [],
   "source": [
    "data = pd.concat([data, temp_data], axis=1, join_axes=[data.index])"
   ]
  },
  {
   "cell_type": "code",
   "execution_count": 554,
   "metadata": {},
   "outputs": [
    {
     "data": {
      "text/html": [
       "<div>\n",
       "<style scoped>\n",
       "    .dataframe tbody tr th:only-of-type {\n",
       "        vertical-align: middle;\n",
       "    }\n",
       "\n",
       "    .dataframe tbody tr th {\n",
       "        vertical-align: top;\n",
       "    }\n",
       "\n",
       "    .dataframe thead th {\n",
       "        text-align: right;\n",
       "    }\n",
       "</style>\n",
       "<table border=\"1\" class=\"dataframe\">\n",
       "  <thead>\n",
       "    <tr style=\"text-align: right;\">\n",
       "      <th></th>\n",
       "      <th>subreddit</th>\n",
       "      <th>name</th>\n",
       "      <th>title</th>\n",
       "      <th>post_paragraph</th>\n",
       "      <th>score</th>\n",
       "      <th>subreddit_type</th>\n",
       "      <th>link_flair_text</th>\n",
       "      <th>target</th>\n",
       "      <th>title_clean</th>\n",
       "      <th>post_paragraph_clean</th>\n",
       "      <th>...</th>\n",
       "      <th>title_clean_idf_zebes</th>\n",
       "      <th>title_clean_idf_zeld</th>\n",
       "      <th>title_clean_idf_zeldaless</th>\n",
       "      <th>title_clean_idf_zeldas</th>\n",
       "      <th>title_clean_idf_zeltik</th>\n",
       "      <th>title_clean_idf_zero</th>\n",
       "      <th>title_clean_idf_zeus</th>\n",
       "      <th>title_clean_idf_zombo</th>\n",
       "      <th>title_clean_idf_zonai</th>\n",
       "      <th>title_clean_idf_zora</th>\n",
       "    </tr>\n",
       "  </thead>\n",
       "  <tbody>\n",
       "    <tr>\n",
       "      <th>0</th>\n",
       "      <td>GodofWar</td>\n",
       "      <td>t3_a3wlrs</td>\n",
       "      <td>God of War = Game of the Year Megathread</td>\n",
       "      <td>God of War won in the following categories of ...</td>\n",
       "      <td>1653</td>\n",
       "      <td>public</td>\n",
       "      <td>NaN</td>\n",
       "      <td>1</td>\n",
       "      <td>game the year megathread</td>\n",
       "      <td>won in the following category game award game ...</td>\n",
       "      <td>...</td>\n",
       "      <td>0.0</td>\n",
       "      <td>0.0</td>\n",
       "      <td>0.0</td>\n",
       "      <td>0.0</td>\n",
       "      <td>0.0</td>\n",
       "      <td>0.0</td>\n",
       "      <td>0.0</td>\n",
       "      <td>0.0</td>\n",
       "      <td>0.0</td>\n",
       "      <td>0.0</td>\n",
       "    </tr>\n",
       "  </tbody>\n",
       "</table>\n",
       "<p>1 rows × 2622 columns</p>\n",
       "</div>"
      ],
      "text/plain": [
       "  subreddit       name                                     title  \\\n",
       "0  GodofWar  t3_a3wlrs  God of War = Game of the Year Megathread   \n",
       "\n",
       "                                      post_paragraph  score subreddit_type  \\\n",
       "0  God of War won in the following categories of ...   1653         public   \n",
       "\n",
       "  link_flair_text  target               title_clean  \\\n",
       "0             NaN       1  game the year megathread   \n",
       "\n",
       "                                post_paragraph_clean  ...  \\\n",
       "0  won in the following category game award game ...  ...   \n",
       "\n",
       "   title_clean_idf_zebes  title_clean_idf_zeld  title_clean_idf_zeldaless  \\\n",
       "0                    0.0                   0.0                        0.0   \n",
       "\n",
       "   title_clean_idf_zeldas  title_clean_idf_zeltik  title_clean_idf_zero  \\\n",
       "0                     0.0                     0.0                   0.0   \n",
       "\n",
       "   title_clean_idf_zeus  title_clean_idf_zombo  title_clean_idf_zonai  \\\n",
       "0                   0.0                    0.0                    0.0   \n",
       "\n",
       "   title_clean_idf_zora  \n",
       "0                   0.0  \n",
       "\n",
       "[1 rows x 2622 columns]"
      ]
     },
     "execution_count": 554,
     "metadata": {},
     "output_type": "execute_result"
    }
   ],
   "source": [
    "data.head(n=1)"
   ]
  },
  {
   "cell_type": "code",
   "execution_count": 555,
   "metadata": {},
   "outputs": [],
   "source": [
    "#Do the same thing post body\n",
    "X_text = tfidf_vect.fit_transform(data['post_paragraph_clean'])\n",
    "X_text = X_text.toarray()\n",
    "    \n",
    "#Create a temporary DataFrame with each word/word-pair/word-group as the columns:\n",
    "temp_data = pd.DataFrame(X_text,\n",
    "columns=tfidf_vect.get_feature_names())\n",
    "for i in range(len(temp_data.columns)):\n",
    "    #print(i)\n",
    "    temp_data.rename(columns={temp_data.columns[i]: 'post_paragraph_clean' + '_idf_' + temp_data.columns[i]}, inplace=True)"
   ]
  },
  {
   "cell_type": "code",
   "execution_count": 579,
   "metadata": {},
   "outputs": [],
   "source": [
    "df = pd.read_csv('./data/master_df_cleaned_tf_idf.csv')"
   ]
  },
  {
   "cell_type": "code",
   "execution_count": null,
   "metadata": {},
   "outputs": [],
   "source": []
  },
  {
   "cell_type": "code",
   "execution_count": 885,
   "metadata": {},
   "outputs": [],
   "source": [
    "info = pd.DataFrame(columns=['post traits scraped'], data = ['subreddit', 'title', 'score', 'post paragraph', 'link_flair_text'])"
   ]
  },
  {
   "cell_type": "code",
   "execution_count": 886,
   "metadata": {},
   "outputs": [
    {
     "data": {
      "text/html": [
       "<div>\n",
       "<style scoped>\n",
       "    .dataframe tbody tr th:only-of-type {\n",
       "        vertical-align: middle;\n",
       "    }\n",
       "\n",
       "    .dataframe tbody tr th {\n",
       "        vertical-align: top;\n",
       "    }\n",
       "\n",
       "    .dataframe thead th {\n",
       "        text-align: right;\n",
       "    }\n",
       "</style>\n",
       "<table border=\"1\" class=\"dataframe\">\n",
       "  <thead>\n",
       "    <tr style=\"text-align: right;\">\n",
       "      <th></th>\n",
       "      <th>post traits scraped</th>\n",
       "    </tr>\n",
       "  </thead>\n",
       "  <tbody>\n",
       "    <tr>\n",
       "      <th>0</th>\n",
       "      <td>subreddit</td>\n",
       "    </tr>\n",
       "    <tr>\n",
       "      <th>1</th>\n",
       "      <td>title</td>\n",
       "    </tr>\n",
       "    <tr>\n",
       "      <th>2</th>\n",
       "      <td>score</td>\n",
       "    </tr>\n",
       "    <tr>\n",
       "      <th>3</th>\n",
       "      <td>post paragraph</td>\n",
       "    </tr>\n",
       "    <tr>\n",
       "      <th>4</th>\n",
       "      <td>link_flair_text</td>\n",
       "    </tr>\n",
       "  </tbody>\n",
       "</table>\n",
       "</div>"
      ],
      "text/plain": [
       "  post traits scraped\n",
       "0           subreddit\n",
       "1               title\n",
       "2               score\n",
       "3      post paragraph\n",
       "4     link_flair_text"
      ]
     },
     "execution_count": 886,
     "metadata": {},
     "output_type": "execute_result"
    }
   ],
   "source": [
    "info"
   ]
  },
  {
   "cell_type": "code",
   "execution_count": null,
   "metadata": {},
   "outputs": [],
   "source": []
  }
 ],
 "metadata": {
  "kernelspec": {
   "display_name": "py36",
   "language": "python",
   "name": "py36"
  },
  "language_info": {
   "codemirror_mode": {
    "name": "ipython",
    "version": 3
   },
   "file_extension": ".py",
   "mimetype": "text/x-python",
   "name": "python",
   "nbconvert_exporter": "python",
   "pygments_lexer": "ipython3",
   "version": "3.6.8"
  }
 },
 "nbformat": 4,
 "nbformat_minor": 2
}
